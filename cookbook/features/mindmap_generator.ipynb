{
 "cells": [
  {
   "cell_type": "markdown",
   "metadata": {},
   "source": [
    "Section 1:"
   ]
  },
  {
   "cell_type": "code",
   "execution_count": null,
   "metadata": {
    "vscode": {
     "languageId": "plaintext"
    }
   },
   "outputs": [],
   "source": [
    "import openai\n",
    "import requests\n",
    "import os"
   ]
  },
  {
   "cell_type": "markdown",
   "metadata": {},
   "source": [
    "openai: Used to access GPT-4o and DALL·E through the OpenAI API.\n",
    "\n",
    "requests: Used to download the generated image from the image URL.\n",
    "\n",
    "os: Used to access environment variables (like your OpenAI API key)."
   ]
  },
  {
   "cell_type": "code",
   "execution_count": null,
   "metadata": {
    "vscode": {
     "languageId": "plaintext"
    }
   },
   "outputs": [],
   "source": [
    "client = openai.OpenAI(api_key=os.getenv(\"OPENAI_API_KEY\", \"your-api-key-here\"))"
   ]
  },
  {
   "cell_type": "markdown",
   "metadata": {},
   "source": [
    "This creates an instance of the OpenAI client using your API key from the environment variable OPENAI_API_KEY.\n",
    "\n",
    "If the variable is not set, it falls back to \"your-api-key-here\" (not recommended for production)."
   ]
  },
  {
   "cell_type": "markdown",
   "metadata": {},
   "source": [
    "Section 2:"
   ]
  },
  {
   "cell_type": "code",
   "execution_count": null,
   "metadata": {
    "vscode": {
     "languageId": "plaintext"
    }
   },
   "outputs": [],
   "source": [
    "def generate_mindmap_image(text, output_file=\"mindmap.png\"):\n",
    "    \"\"\"\n",
    "    Generate a mind map image from input text using GPT-4o and DALL·E.\n",
    "    \n",
    "    Args:\n",
    "        text (str): Input text to visualize as a mind map.\n",
    "        output_file (str): Name of the saved image file.\n",
    "    \"\"\"\n",
    "    # Step 1: Ask GPT-4o to convert text into a visual prompt\n",
    "    system_prompt = \"You are a visual assistant who turns text into simple, interactive mind maps.\"\n",
    "    user_prompt = f\"\"\"\n",
    "    You have to generate a mind map on this text:\n",
    "    ==============\n",
    "    {text}\n",
    "    ==============\n",
    "    \n",
    "    Please describe a simple and interactive mind map that captures the main topics and subtopics.\n",
    "    Output only the prompt for an image generator (e.g., a visual description).\n",
    "    \"\"\"\n",
    "    \n",
    "    try:\n",
    "        # Updated API call syntax\n",
    "        chat_response = client.chat.completions.create(\n",
    "            model=\"gpt-4o\",\n",
    "            messages=[\n",
    "                {\"role\": \"system\", \"content\": system_prompt},\n",
    "                {\"role\": \"user\", \"content\": user_prompt}\n",
    "            ]\n",
    "        )\n",
    "        \n",
    "        visual_prompt = chat_response.choices[0].message.content\n",
    "        print(\"Visual Prompt:\\n\", visual_prompt)\n",
    "        \n",
    "        # Step 2: Generate the image using DALL·E\n",
    "        image_response = client.images.generate(\n",
    "            prompt=visual_prompt,\n",
    "            n=1,\n",
    "            size=\"1024x1024\",\n",
    "            response_format=\"url\"\n",
    "        )\n",
    "        \n",
    "        image_url = image_response.data[0].url\n",
    "        print(\"Image URL:\", image_url)\n",
    "        \n",
    "        # Step 3: Download and save image\n",
    "        image_data = requests.get(image_url, timeout=30).content\n",
    "        with open(output_file, \"wb\") as f:\n",
    "            f.write(image_data)\n",
    "        \n",
    "        print(f\"✅ Mind map saved to {output_file}\")\n",
    "        \n",
    "    except Exception as e:\n",
    "        print(f\"❌ Error: {e}\")"
   ]
  },
  {
   "cell_type": "markdown",
   "metadata": {},
   "source": [
    "generate_mindmap_image function to generate and save a mind map image.\n",
    "\n",
    "text: The input text (e.g., topic description).\n",
    "\n",
    "output_file: Filename for saving the resulting image (default: mindmap.png).\n",
    "\n",
    "These prompts guide GPT-4o to convert the input text into a visual prompt for image generation.\n",
    "\n",
    "The system_prompt sets the behavior of the assistant.\n",
    "\n",
    "The user_prompt provides the actual instructions and content.\n",
    "\n",
    "Sends a conversation to GPT-4o to generate a visual description of the mind map.\n",
    "\n",
    "The response contains a DALL·E-friendly prompt to use in image generation.\n",
    "\n",
    "Extracts the actual description text from GPT's response.\n",
    "\n",
    "Sends the visual prompt to DALL·E to generate an image.\n",
    "\n",
    "n=1: Only one image is requested.\n",
    "\n",
    "size=\"1024x1024\": Specifies image size.\n",
    "\n",
    "response_format=\"url\": Returns a URL pointing to the generated image.\n",
    "\n",
    "Extracts the image URL from the response.\n",
    "\n",
    "Downloads the image from the URL and writes it to a local file (mindmap.png by default).\n",
    "\n",
    "Catches and prints any errors during the process (e.g., network error, API error)."
   ]
  },
  {
   "cell_type": "markdown",
   "metadata": {},
   "source": [
    "Section 3:"
   ]
  },
  {
   "cell_type": "code",
   "execution_count": null,
   "metadata": {
    "vscode": {
     "languageId": "plaintext"
    }
   },
   "outputs": [],
   "source": [
    "# if __name__ == \"__main__\":\n",
    "#     text = \"\"\"Artificial Intelligence includes machine learning, NLP, computer vision, and robotics. \n",
    "#     It's used in healthcare, finance, and more. Ethical issues include bias, privacy, and job loss.\"\"\"\n",
    "#     generate_mindmap_image(text)"
   ]
  },
  {
   "cell_type": "markdown",
   "metadata": {},
   "source": [
    "This shows how to use the function.\n",
    "\n",
    "You can uncomment and run this block to test the script."
   ]
  }
 ],
 "metadata": {
  "language_info": {
   "name": "python"
  }
 },
 "nbformat": 4,
 "nbformat_minor": 2
}
