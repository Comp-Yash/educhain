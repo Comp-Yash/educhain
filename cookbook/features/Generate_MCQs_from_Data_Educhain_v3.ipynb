{
  "nbformat": 4,
  "nbformat_minor": 0,
  "metadata": {
    "colab": {
      "provenance": []
    },
    "kernelspec": {
      "name": "python3",
      "display_name": "Python 3"
    },
    "language_info": {
      "name": "python"
    }
  },
  "cells": [
    {
      "cell_type": "markdown",
      "source": [
        "[![Open In Colab](https://colab.research.google.com/assets/colab-badge.svg)](https://colab.research.google.com/drive/1IIyfENqTYtNrFd85GvJrUtYKVhf8tMaj?usp=sharing)"
      ],
      "metadata": {
        "id": "KzHK2RLHcw_E"
      }
    },
    {
      "cell_type": "markdown",
      "source": [
        "## Generate MCQs from Data using [Educhain](https://github.com/satvik314/educhain)\n",
        "\n",
        "\n",
        "Explore the power of AI-driven education with Educhain! This notebook demonstrates how to create high-quality Multiple Choice Questions (MCQs) from various data sources using the Educhain package. ✅\n",
        "\n",
        "Key Features:\n",
        "- Generate MCQs from PDF files, web pages, and plain text\n",
        "- Customize difficulty levels and learning objectives\n",
        "- Leverage advanced language models for question generation\n",
        "\n",
        "Perfect for educators, content creators, and e-learning developers looking to automate and enhance their question creation process. Dive in to revolutionize your approach to educational content generation!\n",
        "\n"
      ],
      "metadata": {
        "id": "Eh0egNoRdb6F"
      }
    },
    {
      "cell_type": "code",
      "source": [
        "!pip install -qU educhain --quiet"
      ],
      "metadata": {
        "id": "iVsx0ZrTcw08"
      },
      "execution_count": 16,
      "outputs": []
    },
    {
      "cell_type": "code",
      "execution_count": 17,
      "metadata": {
        "id": "xAVgJloIcCpb"
      },
      "outputs": [],
      "source": [
        "# Set up your OpenAI API key\n",
        "import os\n",
        "from google.colab import userdata\n",
        "\n",
        "os.environ[\"OPENAI_API_KEY\"] = userdata.get('OPENAI_API_KEY')"
      ]
    },
    {
      "cell_type": "markdown",
      "source": [
        "### Generating MCQs from a URL"
      ],
      "metadata": {
        "id": "yp_m4RPcfBz8"
      }
    },
    {
      "cell_type": "code",
      "source": [
        "from educhain import Educhain\n",
        "\n",
        "\n",
        "client = Educhain()\n",
        "\n",
        "url_mcqs = client.qna_engine.generate_questions_from_data(\n",
        "        source=\"https://www.buildfastwithai.com/genai-course\",\n",
        "        source_type=\"url\",\n",
        "        num=5,\n",
        "        learning_objective=\"schedule of the course\",\n",
        "        difficulty_level=\"Easy\"\n",
        "    )\n",
        "\n",
        "url_mcqs.show()"
      ],
      "metadata": {
        "colab": {
          "base_uri": "https://localhost:8080/"
        },
        "id": "kib91XW-dlja",
        "outputId": "d837acfb-3c0f-424f-8500-e5c1bb76af9f"
      },
      "execution_count": 18,
      "outputs": [
        {
          "output_type": "stream",
          "name": "stdout",
          "text": [
            "Question 1:\n",
            "Question: What is the duration of the Generative AI Crash Course?\n",
            "Options:\n",
            "  A. 4 weeks\n",
            "  B. 6 weeks\n",
            "  C. 8 weeks\n",
            "  D. 10 weeks\n",
            "\n",
            "Correct Answer: 6 weeks\n",
            "Explanation: The course is structured as a 6-week intensive program, allowing participants to progressively build their skills.\n",
            "\n",
            "Question 2:\n",
            "Question: When does the next cohort of the Generative AI Crash Course start?\n",
            "Options:\n",
            "  A. 1st October\n",
            "  B. 5th October\n",
            "  C. 10th October\n",
            "  D. 15th October\n",
            "\n",
            "Correct Answer: 5th October\n",
            "Explanation: The upcoming cohort is set to begin on 5th October, as mentioned in the course schedule.\n",
            "\n",
            "Question 3:\n",
            "Question: How much is the course fee for the Generative AI Crash Course?\n",
            "Options:\n",
            "  A. Rs 20,000\n",
            "  B. Rs 25,000\n",
            "  C. Rs 30,000\n",
            "  D. Rs 35,000\n",
            "\n",
            "Correct Answer: Rs 30,000\n",
            "Explanation: The fee for enrolling in the course is set at Rs 30,000, which includes various benefits and credits.\n",
            "\n",
            "Question 4:\n",
            "Question: What type of projects can participants expect in the course?\n",
            "Options:\n",
            "  A. No projects\n",
            "  B. Full-scale projects only\n",
            "  C. Mini-projects each week\n",
            "  D. Group projects only\n",
            "\n",
            "Correct Answer: Mini-projects each week\n",
            "Explanation: Participants will engage in mini-projects each week to apply what they learn in real-world contexts.\n",
            "\n",
            "Question 5:\n",
            "Question: Who is the instructor of the Generative AI Crash Course?\n",
            "Options:\n",
            "  A. John Doe\n",
            "  B. Satvik Paramkusham\n",
            "  C. Alice Johnson\n",
            "  D. Michael Smith\n",
            "\n",
            "Correct Answer: Satvik Paramkusham\n",
            "Explanation: Satvik, an IIT Delhi alumnus and AI expert, is the founder and instructor of the course, bringing extensive experience to the program.\n",
            "\n"
          ]
        }
      ]
    },
    {
      "cell_type": "code",
      "source": [
        "from educhain import Educhain\n",
        "\n",
        "client = Educhain()\n",
        "\n",
        "url_mcqs = client.qna_engine.generate_questions_from_data(\n",
        "        source=\"https://en.wikipedia.org/wiki/Butterfly_effect\",\n",
        "        source_type=\"url\",\n",
        "        num=3,\n",
        "        learning_objective=\"Impact of the Butterfly Effect\",\n",
        "    )\n",
        "\n",
        "url_mcqs.show()"
      ],
      "metadata": {
        "colab": {
          "base_uri": "https://localhost:8080/"
        },
        "id": "lmfAoZ2vjx25",
        "outputId": "82a79653-69aa-4da6-e122-192d5d0af4d1"
      },
      "execution_count": null,
      "outputs": [
        {
          "output_type": "stream",
          "name": "stdout",
          "text": [
            "Question 1:\n",
            "Question: What does the butterfly effect illustrate in chaotic systems?\n",
            "Options:\n",
            "  A. Small changes in initial conditions can lead to vastly different outcomes.\n",
            "  B. All outcomes in a chaotic system are predictable.\n",
            "  C. The butterfly effect only applies to weather systems.\n",
            "  D. Minor changes have no effect on outcomes.\n",
            "\n",
            "Correct Answer: Small changes in initial conditions can lead to vastly different outcomes.\n",
            "Explanation: The butterfly effect is a concept in chaos theory that suggests that small differences in initial conditions can lead to significant and unpredictable changes in a system over time.\n",
            "\n",
            "Question 2:\n",
            "Question: Who is primarily credited with popularizing the term 'butterfly effect'?\n",
            "Options:\n",
            "  A. Henri Poincaré\n",
            "  B. Edward Norton Lorenz\n",
            "  C. Norbert Wiener\n",
            "  D. James Gleick\n",
            "\n",
            "Correct Answer: Edward Norton Lorenz.\n",
            "Explanation: Edward Norton Lorenz, a mathematician and meteorologist, is credited with the term 'butterfly effect' after he observed how small alterations in initial conditions of his weather models led to significant differences in outcomes.\n",
            "\n",
            "Question 3:\n",
            "Question: In which year did Lorenz publish his seminal paper discussing the butterfly effect?\n",
            "Options:\n",
            "  A. 1952\n",
            "  B. 1963\n",
            "  C. 1972\n",
            "  D. 1987\n",
            "\n",
            "Correct Answer: 1963.\n",
            "Explanation: Edward Norton Lorenz published his influential paper titled 'Deterministic Nonperiodic Flow' in 1963, which detailed the concept of sensitive dependence on initial conditions, commonly referred to as the butterfly effect.\n",
            "\n"
          ]
        }
      ]
    },
    {
      "cell_type": "markdown",
      "source": [
        "### Generate MCQs from Text"
      ],
      "metadata": {
        "id": "KD6DXFfQfDsl"
      }
    },
    {
      "cell_type": "code",
      "source": [
        "from educhain import Educhain\n",
        "\n",
        "client = Educhain()\n",
        "\n",
        "text_content = \"\"\"\n",
        "    The Big Mac Index, introduced by The Economist in 1986, is a lighthearted way to measure purchasing power parity (PPP) between different currencies.\n",
        "    It compares the price of a McDonald's Big Mac burger across various countries, using the idea that a widely available, uniform product should cost the same in different nations when adjusted for exchange rates.\n",
        "    This index suggests that, in the long run, exchange rates should adjust so that a basket of goods (represented by the Big Mac) costs the same in different countries.\n",
        "    While not a precise economic tool, the Big Mac Index has gained popularity for its simplicity in explaining complex economic concepts.\n",
        "    It's often used as a starting point for discussions about currency valuation and economic disparities between nations.\n",
        "    The index has even inspired similar comparisons using other products, like the \"iPad index\" or the \"Starbucks latte index\".\n",
        "    \"\"\"\n",
        "\n",
        "text_mcqs = client.qna_engine.generate_questions_from_data(\n",
        "        source=text_content,\n",
        "        source_type=\"text\",\n",
        "        num=3,\n",
        "    )\n",
        "\n",
        "text_mcqs.show()"
      ],
      "metadata": {
        "colab": {
          "base_uri": "https://localhost:8080/"
        },
        "id": "LFADd9hQdv7r",
        "outputId": "26ae095e-b26d-4c7d-9e89-ac9157422bee"
      },
      "execution_count": null,
      "outputs": [
        {
          "output_type": "stream",
          "name": "stdout",
          "text": [
            "Question 1:\n",
            "Question: What is the primary purpose of the Big Mac Index?\n",
            "Options:\n",
            "  A. To measure purchasing power parity (PPP) between different currencies.\n",
            "  B. To determine the best fast food restaurant worldwide.\n",
            "  C. To evaluate the nutritional value of fast food items.\n",
            "  D. To rank countries based on their GDP.\n",
            "\n",
            "Correct Answer: To measure purchasing power parity (PPP) between different currencies.\n",
            "Explanation: The Big Mac Index compares the price of a Big Mac in various countries to assess how exchange rates align with purchasing power.\n",
            "\n",
            "Question 2:\n",
            "Question: Who introduced the Big Mac Index?\n",
            "Options:\n",
            "  A. The Wall Street Journal.\n",
            "  B. The Economist.\n",
            "  C. Bloomberg.\n",
            "  D. Financial Times.\n",
            "\n",
            "Correct Answer: The Economist.\n",
            "Explanation: The Big Mac Index was first introduced by The Economist in 1986 as a humorous way to illustrate currency valuation.\n",
            "\n",
            "Question 3:\n",
            "Question: What does the Big Mac Index suggest about exchange rates in the long run?\n",
            "Options:\n",
            "  A. They should remain fixed regardless of economic conditions.\n",
            "  B. They should adjust so that a basket of goods costs the same in different countries.\n",
            "  C. They should fluctuate wildly to reflect market conditions.\n",
            "  D. They are irrelevant to the actual cost of living.\n",
            "\n",
            "Correct Answer: They should adjust so that a basket of goods costs the same in different countries.\n",
            "Explanation: The index implies that, over time, currencies will adjust in value so that identical goods, like the Big Mac, have the same price globally.\n",
            "\n"
          ]
        }
      ]
    },
    {
      "cell_type": "markdown",
      "source": [
        "### Generate MCQs from PDF"
      ],
      "metadata": {
        "id": "SVfBmvyUfJSK"
      }
    },
    {
      "cell_type": "code",
      "source": [
        "from educhain import Educhain\n",
        "\n",
        "client = Educhain()\n",
        "\n",
        "pdf_mcqs = client..generate_questions_from_data(\n",
        "        source=\"/content/CrashCourse_Info_Cohort5.pdf\",\n",
        "        source_type=\"pdf\",\n",
        "        num=5\n",
        "    )\n",
        "\n",
        "pdf_mcqs.show()"
      ],
      "metadata": {
        "colab": {
          "base_uri": "https://localhost:8080/",
          "height": 356
        },
        "id": "j3NEVgP9erEj",
        "outputId": "32f76ffc-a9c6-43ea-edd0-d99724bcc9c4"
      },
      "execution_count": null,
      "outputs": [
        {
          "output_type": "error",
          "ename": "FileNotFoundError",
          "evalue": "[Errno 2] No such file or directory: '/content/CrashCourse_Info_Cohort5.pdf'",
          "traceback": [
            "\u001b[0;31m---------------------------------------------------------------------------\u001b[0m",
            "\u001b[0;31mFileNotFoundError\u001b[0m                         Traceback (most recent call last)",
            "\u001b[0;32m<ipython-input-7-443ec07ab998>\u001b[0m in \u001b[0;36m<cell line: 5>\u001b[0;34m()\u001b[0m\n\u001b[1;32m      3\u001b[0m \u001b[0mclient\u001b[0m \u001b[0;34m=\u001b[0m \u001b[0mEduchain\u001b[0m\u001b[0;34m(\u001b[0m\u001b[0;34m)\u001b[0m\u001b[0;34m\u001b[0m\u001b[0;34m\u001b[0m\u001b[0m\n\u001b[1;32m      4\u001b[0m \u001b[0;34m\u001b[0m\u001b[0m\n\u001b[0;32m----> 5\u001b[0;31m pdf_mcqs = client.qna_engine.generate_questions_from_data(\n\u001b[0m\u001b[1;32m      6\u001b[0m         \u001b[0msource\u001b[0m\u001b[0;34m=\u001b[0m\u001b[0;34m\"/content/CrashCourse_Info_Cohort5.pdf\"\u001b[0m\u001b[0;34m,\u001b[0m\u001b[0;34m\u001b[0m\u001b[0;34m\u001b[0m\u001b[0m\n\u001b[1;32m      7\u001b[0m         \u001b[0msource_type\u001b[0m\u001b[0;34m=\u001b[0m\u001b[0;34m\"pdf\"\u001b[0m\u001b[0;34m,\u001b[0m\u001b[0;34m\u001b[0m\u001b[0;34m\u001b[0m\u001b[0m\n",
            "\u001b[0;32m/usr/local/lib/python3.10/dist-packages/educhain/engines/qna_engine.py\u001b[0m in \u001b[0;36mgenerate_questions_from_data\u001b[0;34m(self, source, source_type, num, question_type, prompt_template, custom_instructions, response_model, **kwargs)\u001b[0m\n\u001b[1;32m    169\u001b[0m         \u001b[0;34m**\u001b[0m\u001b[0mkwargs\u001b[0m\u001b[0;34m\u001b[0m\u001b[0;34m\u001b[0m\u001b[0m\n\u001b[1;32m    170\u001b[0m     ) -> Any:\n\u001b[0;32m--> 171\u001b[0;31m         \u001b[0mcontent\u001b[0m \u001b[0;34m=\u001b[0m \u001b[0mself\u001b[0m\u001b[0;34m.\u001b[0m\u001b[0m_load_data\u001b[0m\u001b[0;34m(\u001b[0m\u001b[0msource\u001b[0m\u001b[0;34m,\u001b[0m \u001b[0msource_type\u001b[0m\u001b[0;34m)\u001b[0m\u001b[0;34m\u001b[0m\u001b[0;34m\u001b[0m\u001b[0m\n\u001b[0m\u001b[1;32m    172\u001b[0m         return self.generate_questions(\n\u001b[1;32m    173\u001b[0m             \u001b[0mtopic\u001b[0m\u001b[0;34m=\u001b[0m\u001b[0mcontent\u001b[0m\u001b[0;34m,\u001b[0m\u001b[0;34m\u001b[0m\u001b[0;34m\u001b[0m\u001b[0m\n",
            "\u001b[0;32m/usr/local/lib/python3.10/dist-packages/educhain/engines/qna_engine.py\u001b[0m in \u001b[0;36m_load_data\u001b[0;34m(self, source, source_type)\u001b[0m\n\u001b[1;32m    101\u001b[0m     \u001b[0;32mdef\u001b[0m \u001b[0m_load_data\u001b[0m\u001b[0;34m(\u001b[0m\u001b[0mself\u001b[0m\u001b[0;34m,\u001b[0m \u001b[0msource\u001b[0m\u001b[0;34m:\u001b[0m \u001b[0mstr\u001b[0m\u001b[0;34m,\u001b[0m \u001b[0msource_type\u001b[0m\u001b[0;34m:\u001b[0m \u001b[0mstr\u001b[0m\u001b[0;34m)\u001b[0m \u001b[0;34m->\u001b[0m \u001b[0mstr\u001b[0m\u001b[0;34m:\u001b[0m\u001b[0;34m\u001b[0m\u001b[0;34m\u001b[0m\u001b[0m\n\u001b[1;32m    102\u001b[0m         \u001b[0;32mif\u001b[0m \u001b[0msource_type\u001b[0m \u001b[0;34m==\u001b[0m \u001b[0;34m'pdf'\u001b[0m\u001b[0;34m:\u001b[0m\u001b[0;34m\u001b[0m\u001b[0;34m\u001b[0m\u001b[0m\n\u001b[0;32m--> 103\u001b[0;31m             \u001b[0;32mreturn\u001b[0m \u001b[0mself\u001b[0m\u001b[0;34m.\u001b[0m\u001b[0mpdf_loader\u001b[0m\u001b[0;34m.\u001b[0m\u001b[0mload_data\u001b[0m\u001b[0;34m(\u001b[0m\u001b[0msource\u001b[0m\u001b[0;34m)\u001b[0m\u001b[0;34m\u001b[0m\u001b[0;34m\u001b[0m\u001b[0m\n\u001b[0m\u001b[1;32m    104\u001b[0m         \u001b[0;32melif\u001b[0m \u001b[0msource_type\u001b[0m \u001b[0;34m==\u001b[0m \u001b[0;34m'url'\u001b[0m\u001b[0;34m:\u001b[0m\u001b[0;34m\u001b[0m\u001b[0;34m\u001b[0m\u001b[0m\n\u001b[1;32m    105\u001b[0m             \u001b[0;32mreturn\u001b[0m \u001b[0mself\u001b[0m\u001b[0;34m.\u001b[0m\u001b[0murl_loader\u001b[0m\u001b[0;34m.\u001b[0m\u001b[0mload_data\u001b[0m\u001b[0;34m(\u001b[0m\u001b[0msource\u001b[0m\u001b[0;34m)\u001b[0m\u001b[0;34m\u001b[0m\u001b[0;34m\u001b[0m\u001b[0m\n",
            "\u001b[0;32m/usr/local/lib/python3.10/dist-packages/educhain/utils/loaders.py\u001b[0m in \u001b[0;36mload_data\u001b[0;34m(self, file_path)\u001b[0m\n\u001b[1;32m      6\u001b[0m \u001b[0;32mclass\u001b[0m \u001b[0mPdfFileLoader\u001b[0m\u001b[0;34m:\u001b[0m\u001b[0;34m\u001b[0m\u001b[0;34m\u001b[0m\u001b[0m\n\u001b[1;32m      7\u001b[0m     \u001b[0;32mdef\u001b[0m \u001b[0mload_data\u001b[0m\u001b[0;34m(\u001b[0m\u001b[0mself\u001b[0m\u001b[0;34m,\u001b[0m \u001b[0mfile_path\u001b[0m\u001b[0;34m)\u001b[0m\u001b[0;34m:\u001b[0m\u001b[0;34m\u001b[0m\u001b[0;34m\u001b[0m\u001b[0m\n\u001b[0;32m----> 8\u001b[0;31m         \u001b[0mreader\u001b[0m \u001b[0;34m=\u001b[0m \u001b[0mPdfReader\u001b[0m\u001b[0;34m(\u001b[0m\u001b[0mfile_path\u001b[0m\u001b[0;34m)\u001b[0m\u001b[0;34m\u001b[0m\u001b[0;34m\u001b[0m\u001b[0m\n\u001b[0m\u001b[1;32m      9\u001b[0m         \u001b[0mall_content\u001b[0m \u001b[0;34m=\u001b[0m \u001b[0;34m[\u001b[0m\u001b[0;34m]\u001b[0m\u001b[0;34m\u001b[0m\u001b[0;34m\u001b[0m\u001b[0m\n\u001b[1;32m     10\u001b[0m \u001b[0;34m\u001b[0m\u001b[0m\n",
            "\u001b[0;32m/usr/local/lib/python3.10/dist-packages/PyPDF2/_reader.py\u001b[0m in \u001b[0;36m__init__\u001b[0;34m(self, stream, strict, password)\u001b[0m\n\u001b[1;32m    315\u001b[0m             )\n\u001b[1;32m    316\u001b[0m         \u001b[0;32mif\u001b[0m \u001b[0misinstance\u001b[0m\u001b[0;34m(\u001b[0m\u001b[0mstream\u001b[0m\u001b[0;34m,\u001b[0m \u001b[0;34m(\u001b[0m\u001b[0mstr\u001b[0m\u001b[0;34m,\u001b[0m \u001b[0mPath\u001b[0m\u001b[0;34m)\u001b[0m\u001b[0;34m)\u001b[0m\u001b[0;34m:\u001b[0m\u001b[0;34m\u001b[0m\u001b[0;34m\u001b[0m\u001b[0m\n\u001b[0;32m--> 317\u001b[0;31m             \u001b[0;32mwith\u001b[0m \u001b[0mopen\u001b[0m\u001b[0;34m(\u001b[0m\u001b[0mstream\u001b[0m\u001b[0;34m,\u001b[0m \u001b[0;34m\"rb\"\u001b[0m\u001b[0;34m)\u001b[0m \u001b[0;32mas\u001b[0m \u001b[0mfh\u001b[0m\u001b[0;34m:\u001b[0m\u001b[0;34m\u001b[0m\u001b[0;34m\u001b[0m\u001b[0m\n\u001b[0m\u001b[1;32m    318\u001b[0m                 \u001b[0mstream\u001b[0m \u001b[0;34m=\u001b[0m \u001b[0mBytesIO\u001b[0m\u001b[0;34m(\u001b[0m\u001b[0mfh\u001b[0m\u001b[0;34m.\u001b[0m\u001b[0mread\u001b[0m\u001b[0;34m(\u001b[0m\u001b[0;34m)\u001b[0m\u001b[0;34m)\u001b[0m\u001b[0;34m\u001b[0m\u001b[0;34m\u001b[0m\u001b[0m\n\u001b[1;32m    319\u001b[0m         \u001b[0mself\u001b[0m\u001b[0;34m.\u001b[0m\u001b[0mread\u001b[0m\u001b[0;34m(\u001b[0m\u001b[0mstream\u001b[0m\u001b[0;34m)\u001b[0m\u001b[0;34m\u001b[0m\u001b[0;34m\u001b[0m\u001b[0m\n",
            "\u001b[0;31mFileNotFoundError\u001b[0m: [Errno 2] No such file or directory: '/content/CrashCourse_Info_Cohort5.pdf'"
          ]
        }
      ]
    },
    {
      "cell_type": "markdown",
      "source": [
        "### Using different models ⚡"
      ],
      "metadata": {
        "id": "X02r9d95gKDu"
      }
    },
    {
      "cell_type": "code",
      "source": [
        "!pip install -qU langchain-google-genai --quiet"
      ],
      "metadata": {
        "id": "2g08bo-hgJsx"
      },
      "execution_count": null,
      "outputs": []
    },
    {
      "cell_type": "code",
      "source": [
        "from langchain_google_genai import ChatGoogleGenerativeAI\n",
        "from google.colab import userdata\n",
        "\n",
        "# Initialize Google's Gemini 1.5 Flash\n",
        "gemini_flash = ChatGoogleGenerativeAI(model = \"gemini-1.5-flash-latest\",\n",
        "                                      google_api_key=userdata.get('GOOGLE_API_KEY')\n",
        "                                      )\n",
        "\n",
        "gemini_pro = ChatGoogleGenerativeAI(model = \"gemini-1.5-pro-latest\",\n",
        "                                      google_api_key=userdata.get('GOOGLE_API_KEY')\n",
        "                                      )"
      ],
      "metadata": {
        "id": "yMNmP676gGed"
      },
      "execution_count": null,
      "outputs": []
    },
    {
      "cell_type": "code",
      "source": [
        "from educhain import Educhain\n",
        "from educhain.core import config\n",
        "\n",
        "llm_config = config.LLMConfig(\n",
        "    custom_model=gemini_flash\n",
        ")\n",
        "\n",
        "client = Educhain(llm_config)\n",
        "\n",
        "url_mcqs = client.qna_engine.generate_questions_from_data(\n",
        "        source=\"https://en.wikipedia.org/wiki/Butterfly_effect\",\n",
        "        source_type=\"url\",\n",
        "        num=3,\n",
        "        learning_objective=\"real life examples\"\n",
        "\n",
        "    )\n",
        "\n",
        "url_mcqs.show()"
      ],
      "metadata": {
        "colab": {
          "base_uri": "https://localhost:8080/"
        },
        "id": "1T91bnJ3i54f",
        "outputId": "485627d8-bd8e-4695-b99b-a7ada56689e3"
      },
      "execution_count": null,
      "outputs": [
        {
          "output_type": "stream",
          "name": "stdout",
          "text": [
            "Question 1:\n",
            "Question: What is the butterfly effect, in simple terms?\n",
            "Options:\n",
            "  A. The idea that butterflies are responsible for weather patterns.\n",
            "  B. A small change in a system can have large and unpredictable effects over time.\n",
            "  C. The ability of butterflies to predict future events.\n",
            "  D. The impact of butterflies on the environment.\n",
            "\n",
            "Correct Answer: A small change in a system can have large and unpredictable effects over time.\n",
            "Explanation: The butterfly effect highlights how even minor initial differences can lead to dramatically different outcomes in complex systems.\n",
            "\n",
            "Question 2:\n",
            "Question: Who is credited with popularizing the term \"butterfly effect\"?\n",
            "Options:\n",
            "  A. Ray Bradbury\n",
            "  B. Henri Poincaré\n",
            "  C. Norbert Wiener\n",
            "  D. Edward Lorenz\n",
            "\n",
            "Correct Answer: Edward Lorenz\n",
            "Explanation: Lorenz, a meteorologist, observed that small changes in his weather models led to significantly different outcomes, illustrating the concept of sensitive dependence on initial conditions.\n",
            "\n",
            "Question 3:\n",
            "Question: Which of the following is NOT a real-world example of the butterfly effect?\n",
            "Options:\n",
            "  A. A small typo in a weather forecast leading to inaccurate predictions.\n",
            "  B. A minor political event triggering a chain of events leading to a revolution.\n",
            "  C. A butterfly flapping its wings causing a specific tornado in Texas.\n",
            "  D. A slight change in stock market prices causing a major economic downturn.\n",
            "\n",
            "Correct Answer: A butterfly flapping its wings causing a specific tornado in Texas.\n",
            "Explanation: While the butterfly effect is a real phenomenon, the specific link between a butterfly's wings and a particular tornado is a metaphor, not a scientifically proven cause-and-effect relationship.\n",
            "\n"
          ]
        }
      ]
    },
    {
      "cell_type": "code",
      "source": [
        "from educhain import Educhain\n",
        "from educhain.core import config\n",
        "\n",
        "llm_config = config.LLMConfig(\n",
        "    custom_model=gemini_pro\n",
        ")\n",
        "\n",
        "client = Educhain(llm_config)\n",
        "url_mcqs = client.qna_engine.generate_questions_from_data(\n",
        "        source=\"https://en.wikipedia.org/wiki/List_of_cognitive_biases\",\n",
        "        source_type=\"url\",\n",
        "        num=1,\n",
        "        learning_objective=\"Types of Biases\",\n",
        "\n",
        "    )\n",
        "\n",
        "url_mcqs.show()"
      ],
      "metadata": {
        "colab": {
          "base_uri": "https://localhost:8080/"
        },
        "id": "B1AHlDDLggfx",
        "outputId": "c6127028-4f75-4a0a-a2c1-df0c2606752a"
      },
      "execution_count": null,
      "outputs": [
        {
          "output_type": "stream",
          "name": "stdout",
          "text": [
            "Question 1:\n",
            "Question: Which cognitive bias describes the tendency to overestimate the likelihood of events that are easily recalled, often due to their vividness or recent occurrence?\n",
            "Options:\n",
            "  A. Anchoring bias\n",
            "  B. Confirmation bias\n",
            "  C. Availability heuristic\n",
            "  D. Egocentric bias\n",
            "\n",
            "Correct Answer: Availability heuristic\n",
            "\n"
          ]
        }
      ]
    },
    {
      "cell_type": "markdown",
      "source": [
        "### Deepseek Model"
      ],
      "metadata": {
        "id": "i_UH29rY5LdV"
      }
    },
    {
      "cell_type": "code",
      "source": [
        "# Deepseek Model\n",
        "from langchain_openai import ChatOpenAI\n",
        "from educhain.engines import qna_engine\n",
        "from educhain.core import config\n",
        "\n",
        "\n",
        "generator = qna_engine.QnAEngine()\n",
        "deepseek = ChatOpenAI(model = \"deepseek/deepseek-chat\",\n",
        "                      openai_api_key = userdata.get(\"OPENROUTER_API_KEY\"),\n",
        "                      openai_api_base = \"https://openrouter.ai/api/v1\"\n",
        "\n",
        ")\n",
        "\n",
        "llm_config = config.LLMConfig(\n",
        "    custom_model=deepseek\n",
        ")"
      ],
      "metadata": {
        "id": "Eoac9tDSisTk"
      },
      "execution_count": null,
      "outputs": []
    },
    {
      "cell_type": "code",
      "source": [
        "from educhain import Educhain\n",
        "client = Educhain(llm_config)\n",
        "\n",
        "url_mcqs = client.qna_engine.generate_questions_from_data(\n",
        "        source=\"https://en.wikipedia.org/wiki/List_of_cognitive_biases\",\n",
        "        source_type=\"url\",\n",
        "        num=3,\n",
        "        learning_objective=\"Types of Biases\"\n",
        "\n",
        "    )\n",
        "\n",
        "url_mcqs.show()"
      ],
      "metadata": {
        "colab": {
          "base_uri": "https://localhost:8080/"
        },
        "id": "4H7NfNiqjbtG",
        "outputId": "78350933-1e9b-4433-ed36-226bd199a30e"
      },
      "execution_count": null,
      "outputs": [
        {
          "output_type": "stream",
          "name": "stdout",
          "text": [
            "Question 1:\n",
            "Question: What is confirmation bias?\n",
            "Options:\n",
            "  A. The tendency to perceive meaningful connections between unrelated things.\n",
            "  B. The tendency to adjust one's beliefs insufficiently when presented with new evidence.\n",
            "  C. The tendency to search for, interpret, and remember information in a way that confirms one's preconceptions.\n",
            "  D. The tendency to overestimate the likelihood of events based on how easily examples come to mind.\n",
            "\n",
            "Correct Answer: The tendency to search for, interpret, and remember information in a way that confirms one's preconceptions.\n",
            "Explanation: Confirmation bias leads individuals to favor information that supports their existing beliefs while disregarding contradictory evidence.\n",
            "\n",
            "Question 2:\n",
            "Question: Which of the following describes the anchoring bias?\n",
            "Options:\n",
            "  A. The tendency to overestimate the likelihood of events based on how easily examples come to mind.\n",
            "  B. The tendency to perceive meaningful connections between unrelated things.\n",
            "  C. The tendency to rely too heavily on the first piece of information encountered when making decisions.\n",
            "  D. The tendency to interpret others' actions as having hostile intent.\n",
            "\n",
            "Correct Answer: The tendency to rely too heavily on the first piece of information encountered when making decisions.\n",
            "Explanation: Anchoring bias can lead to skewed decision-making, as individuals may give disproportionate weight to initial data.\n",
            "\n",
            "Question 3:\n",
            "Question: What does the availability heuristic refer to?\n",
            "Options:\n",
            "  A. The tendency to overestimate the likelihood of events based on their availability in memory.\n",
            "  B. The tendency to judge the probability of an event by how easily an example can be recalled.\n",
            "  C. The tendency to reject new evidence that contradicts an established paradigm.\n",
            "  D. The tendency to perceive a vague stimulus as significant.\n",
            "\n",
            "Correct Answer: The tendency to overestimate the likelihood of events based on their availability in memory.\n",
            "Explanation: This bias often leads individuals to assess the importance of events based on how easily they can recall examples, which may not reflect actual probabilities.\n",
            "\n"
          ]
        }
      ]
    }
  ]
}
