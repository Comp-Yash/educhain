{
  "cells": [
    {
      "cell_type": "markdown",
      "metadata": {
        "id": "KzHK2RLHcw_E"
      },
      "source": [
        "[![Open In Colab](https://colab.research.google.com/assets/colab-badge.svg)](https://colab.research.google.com/drive/1D_1eC7cZ9LrWx9TifsxYk7tnzW_K7UgO?usp=sharing)"
      ]
    },
    {
      "cell_type": "markdown",
      "metadata": {
        "id": "Eh0egNoRdb6F"
      },
      "source": [
        "## Generate MCQs from Data using [Educhain](https://github.com/satvik314/educhain)\n",
        "\n",
        "\n",
        "Explore the power of AI-driven education with Educhain! This notebook demonstrates how to create high-quality Multiple Choice Questions (MCQs) from various data sources using the Educhain package.\n",
        "\n",
        "Key Features:\n",
        "- Generate MCQs from PDF files, web pages, and plain text\n",
        "- Customize difficulty levels and learning objectives\n",
        "- Export questions to CSV, JSON, or PDF formats\n",
        "- Leverage advanced language models for question generation\n",
        "\n",
        "Perfect for educators, content creators, and e-learning developers looking to automate and enhance their question creation process. Dive in to revolutionize your approach to educational content generation!\n",
        "\n"
      ]
    },
    {
      "cell_type": "code",
      "execution_count": 1,
      "metadata": {
        "colab": {
          "base_uri": "https://localhost:8080/"
        },
        "id": "iVsx0ZrTcw08",
        "outputId": "68741050-c02d-4d8d-8156-ce24a4086f57"
      },
      "outputs": [
        {
          "name": "stdout",
          "output_type": "stream",
          "text": [
            "\u001b[2K     \u001b[90m━━━━━━━━━━━━━━━━━━━━━━━━━━━━━━━━━━━━━━━━\u001b[0m \u001b[32m987.6/987.6 kB\u001b[0m \u001b[31m8.3 MB/s\u001b[0m eta \u001b[36m0:00:00\u001b[0m\n",
            "\u001b[2K     \u001b[90m━━━━━━━━━━━━━━━━━━━━━━━━━━━━━━━━━━━━━━━━\u001b[0m \u001b[32m2.2/2.2 MB\u001b[0m \u001b[31m14.1 MB/s\u001b[0m eta \u001b[36m0:00:00\u001b[0m\n",
            "\u001b[2K     \u001b[90m━━━━━━━━━━━━━━━━━━━━━━━━━━━━━━━━━━━━━━━━\u001b[0m \u001b[32m46.1/46.1 kB\u001b[0m \u001b[31m2.5 MB/s\u001b[0m eta \u001b[36m0:00:00\u001b[0m\n",
            "\u001b[2K     \u001b[90m━━━━━━━━━━━━━━━━━━━━━━━━━━━━━━━━━━━━━━━━\u001b[0m \u001b[32m328.5/328.5 kB\u001b[0m \u001b[31m14.7 MB/s\u001b[0m eta \u001b[36m0:00:00\u001b[0m\n",
            "\u001b[2K     \u001b[90m━━━━━━━━━━━━━━━━━━━━━━━━━━━━━━━━━━━━━━━━\u001b[0m \u001b[32m1.9/1.9 MB\u001b[0m \u001b[31m20.4 MB/s\u001b[0m eta \u001b[36m0:00:00\u001b[0m\n",
            "\u001b[2K     \u001b[90m━━━━━━━━━━━━━━━━━━━━━━━━━━━━━━━━━━━━━━━━\u001b[0m \u001b[32m232.6/232.6 kB\u001b[0m \u001b[31m16.3 MB/s\u001b[0m eta \u001b[36m0:00:00\u001b[0m\n",
            "\u001b[2K     \u001b[90m━━━━━━━━━━━━━━━━━━━━━━━━━━━━━━━━━━━━━━━━\u001b[0m \u001b[32m366.5/366.5 kB\u001b[0m \u001b[31m13.6 MB/s\u001b[0m eta \u001b[36m0:00:00\u001b[0m\n",
            "\u001b[2K     \u001b[90m━━━━━━━━━━━━━━━━━━━━━━━━━━━━━━━━━━━━━━━━\u001b[0m \u001b[32m127.9/127.9 kB\u001b[0m \u001b[31m6.6 MB/s\u001b[0m eta \u001b[36m0:00:00\u001b[0m\n",
            "\u001b[2K     \u001b[90m━━━━━━━━━━━━━━━━━━━━━━━━━━━━━━━━━━━━━━━━\u001b[0m \u001b[32m1.1/1.1 MB\u001b[0m \u001b[31m28.9 MB/s\u001b[0m eta \u001b[36m0:00:00\u001b[0m\n",
            "\u001b[2K     \u001b[90m━━━━━━━━━━━━━━━━━━━━━━━━━━━━━━━━━━━━━━━━\u001b[0m \u001b[32m75.6/75.6 kB\u001b[0m \u001b[31m6.1 MB/s\u001b[0m eta \u001b[36m0:00:00\u001b[0m\n",
            "\u001b[2K     \u001b[90m━━━━━━━━━━━━━━━━━━━━━━━━━━━━━━━━━━━━━━━━\u001b[0m \u001b[32m49.2/49.2 kB\u001b[0m \u001b[31m2.8 MB/s\u001b[0m eta \u001b[36m0:00:00\u001b[0m\n",
            "\u001b[2K     \u001b[90m━━━━━━━━━━━━━━━━━━━━━━━━━━━━━━━━━━━━━━━━\u001b[0m \u001b[32m77.9/77.9 kB\u001b[0m \u001b[31m3.7 MB/s\u001b[0m eta \u001b[36m0:00:00\u001b[0m\n",
            "\u001b[2K     \u001b[90m━━━━━━━━━━━━━━━━━━━━━━━━━━━━━━━━━━━━━━━━\u001b[0m \u001b[32m58.3/58.3 kB\u001b[0m \u001b[31m2.5 MB/s\u001b[0m eta \u001b[36m0:00:00\u001b[0m\n",
            "\u001b[2K     \u001b[90m━━━━━━━━━━━━━━━━━━━━━━━━━━━━━━━━━━━━━━━━\u001b[0m \u001b[32m141.1/141.1 kB\u001b[0m \u001b[31m3.4 MB/s\u001b[0m eta \u001b[36m0:00:00\u001b[0m\n",
            "\u001b[?25h"
          ]
        }
      ],
      "source": [
        "# First, install the Educhain package\n",
        "!pip install -qU educhain"
      ]
    },
    {
      "cell_type": "code",
      "execution_count": 2,
      "metadata": {
        "id": "xAVgJloIcCpb"
      },
      "outputs": [],
      "source": [
        "# Set up your OpenAI API key\n",
        "import os\n",
        "from google.colab import userdata\n",
        "\n",
        "os.environ[\"OPENAI_API_KEY\"] = userdata.get('OPENAI_API_KEY')"
      ]
    },
    {
      "cell_type": "markdown",
      "metadata": {
        "id": "yp_m4RPcfBz8"
      },
      "source": [
        "### Generating MCQs from a URL"
      ]
    },
    {
      "cell_type": "code",
      "execution_count": 4,
      "metadata": {
        "colab": {
          "base_uri": "https://localhost:8080/"
        },
        "id": "kib91XW-dlja",
        "outputId": "5689e535-498a-45be-b0b9-0d18feb25a03"
      },
      "outputs": [
        {
          "name": "stdout",
          "output_type": "stream",
          "text": [
            "Question 1:\n",
            "Question: When does the 5th Cohort of the Crash Course on Generative AI start?\n",
            "Options:\n",
            "  A. August 3rd\n",
            "  B. August 10th\n",
            "  C. August 17th\n",
            "  D. August 24th\n",
            "\n",
            "Correct Answer: August 10th\n",
            "Explanation: The 5th Cohort of the Crash Course on Generative AI starts on August 10th, as mentioned in the schedule section of the content.\n",
            "\n",
            "Question 2:\n",
            "Question: Who is the lead mentor for the course?\n",
            "Options:\n",
            "  A. Satvik\n",
            "  B. Zoya\n",
            "  C. Gita\n",
            "  D. Krishna\n",
            "\n",
            "Correct Answer: Satvik\n",
            "Explanation: Satvik is mentioned as the founder of Build Fast with AI and the lead mentor for the course in the Mentor section of the content.\n",
            "\n",
            "Question 3:\n",
            "Question: What is the topic of Week 2 in the course schedule?\n",
            "Options:\n",
            "  A. Introduction to Gen AI\n",
            "  B. Building AI Chatbots & Chat with Data\n",
            "  C. Fine Tuning Models on your Data\n",
            "  D. AI Agents + Multimodal models + Image Models\n",
            "\n",
            "Correct Answer: Building AI Chatbots & Chat with Data\n",
            "Explanation: Week 2 in the course schedule covers the topic of Building AI Chatbots & Chat with Data, as listed in the schedule section of the content.\n",
            "\n",
            "Question 4:\n",
            "Question: What is the fee for the course after the exclusive 25% discount for the cohort?\n",
            "Options:\n",
            "  A. Rs 25,000\n",
            "  B. Rs 20,000\n",
            "  C. Rs 15,000\n",
            "  D. Rs 10,000\n",
            "\n",
            "Correct Answer: Rs 15,000\n",
            "Explanation: The course is priced at Rs 20,000 with an exclusive 25% discount for the cohort, making the final fee Rs 15,000, as mentioned in the Fee Structure section of the content.\n",
            "\n",
            "Question 5:\n",
            "Question: How many weeks does the course run for?\n",
            "Options:\n",
            "  A. 2 weeks\n",
            "  B. 3 weeks\n",
            "  C. 4 weeks\n",
            "  D. 5 weeks\n",
            "\n",
            "Correct Answer: 4 weeks\n",
            "Explanation: The course is a meticulously crafted 4-week course, as stated in the About the course section of the content.\n",
            "\n"
          ]
        }
      ],
      "source": [
        "from educhain import qna_engine\n",
        "\n",
        "url_mcqs = qna_engine.generate_mcqs_from_data(\n",
        "        source=\"https://www.buildfastwithai.com/genai-course\",\n",
        "        source_type=\"url\",\n",
        "        num=5,\n",
        "        learning_objective=\"schedule of the course\",\n",
        "        difficulty_level=\"Easy\"\n",
        "    )\n",
        "\n",
        "url_mcqs.show()"
      ]
    },
    {
      "cell_type": "code",
      "execution_count": 27,
      "metadata": {
        "colab": {
          "base_uri": "https://localhost:8080/"
        },
        "id": "lmfAoZ2vjx25",
        "outputId": "e1feed0b-b94d-4fe6-cd64-ce7e7e326abf"
      },
      "outputs": [
        {
          "name": "stdout",
          "output_type": "stream",
          "text": [
            "Question 1:\n",
            "Question: Who is closely associated with the concept of the butterfly effect?\n",
            "Options:\n",
            "  A. Isaac Newton\n",
            "  B. Edward Norton Lorenz\n",
            "  C. Albert Einstein\n",
            "  D. Marie Curie\n",
            "\n",
            "Correct Answer: Edward Norton Lorenz\n",
            "Explanation: The butterfly effect is closely associated with the work of mathematician and meteorologist Edward Norton Lorenz.\n",
            "\n",
            "Question 2:\n",
            "Question: What is the butterfly effect also known as?\n",
            "Options:\n",
            "  A. Sensitive dependence on initial conditions\n",
            "  B. Random effect theory\n",
            "  C. Chaotic system principle\n",
            "  D. Deterministic nonlinearity\n",
            "\n",
            "Correct Answer: Sensitive dependence on initial conditions\n",
            "Explanation: The butterfly effect is also known as sensitive dependence on initial conditions, where small changes can lead to significant differences in outcomes.\n",
            "\n",
            "Question 3:\n",
            "Question: Which mathematical framework provides a simple example demonstrating the butterfly effect?\n",
            "Options:\n",
            "  A. Logistic map\n",
            "  B. Exponential map\n",
            "  C. Horseshoe map\n",
            "  D. Standard map\n",
            "\n",
            "Correct Answer: Logistic map\n",
            "Explanation: The logistic map provides a simple mathematical framework exhibiting sensitive dependence on initial conditions, showcasing the butterfly effect.\n",
            "\n"
          ]
        }
      ],
      "source": [
        "from educhain import qna_engine\n",
        "\n",
        "mcqs_from_url = qna_engine.generate_mcqs_from_data(\n",
        "        source=\"https://en.wikipedia.org/wiki/Butterfly_effect\",\n",
        "        source_type=\"url\",\n",
        "        num=3,\n",
        "        learning_objective=\"Impact of the Butterfly Effect\",\n",
        "    )\n",
        "\n",
        "mcqs_from_url.show()"
      ]
    },
    {
      "cell_type": "markdown",
      "metadata": {
        "id": "KD6DXFfQfDsl"
      },
      "source": [
        "### Generate MCQs from Text"
      ]
    },
    {
      "cell_type": "code",
      "execution_count": 5,
      "metadata": {
        "colab": {
          "base_uri": "https://localhost:8080/"
        },
        "id": "LFADd9hQdv7r",
        "outputId": "adb2943d-60a9-4b63-ea81-bba6461174e4"
      },
      "outputs": [
        {
          "name": "stdout",
          "output_type": "stream",
          "text": [
            "Question 1:\n",
            "Question: What is the main purpose of the Big Mac Index?\n",
            "Options:\n",
            "  A. To compare the nutritional value of fast food items\n",
            "  B. To measure purchasing power parity between different currencies\n",
            "  C. To determine the most popular fast food chain worldwide\n",
            "  D. To analyze the marketing strategies of McDonald's\n",
            "\n",
            "Correct Answer: To measure purchasing power parity between different currencies\n",
            "Explanation: The Big Mac Index is used to compare the price of a McDonald's Big Mac burger across different countries to measure purchasing power parity.\n",
            "\n",
            "Question 2:\n",
            "Question: Which year was the Big Mac Index introduced by The Economist?\n",
            "Options:\n",
            "  A. 1999\n",
            "  B. 2005\n",
            "  C. 1986\n",
            "  D. 2010\n",
            "\n",
            "Correct Answer: 1986\n",
            "Explanation: The Big Mac Index was introduced by The Economist in 1986 as a lighthearted way to measure purchasing power parity.\n",
            "\n",
            "Question 3:\n",
            "Question: What other product comparison index has been inspired by the Big Mac Index?\n",
            "Options:\n",
            "  A. Pizza index\n",
            "  B. Coca-Cola index\n",
            "  C. iPad index\n",
            "  D. Nike shoes index\n",
            "\n",
            "Correct Answer: iPad index\n",
            "Explanation: The Big Mac Index has inspired similar comparisons using other products, such as the 'iPad index' or the 'Starbucks latte index'.\n",
            "\n"
          ]
        }
      ],
      "source": [
        "text_content = \"\"\"\n",
        "    The Big Mac Index, introduced by The Economist in 1986, is a lighthearted way to measure purchasing power parity (PPP) between different currencies.\n",
        "    It compares the price of a McDonald's Big Mac burger across various countries, using the idea that a widely available, uniform product should cost the same in different nations when adjusted for exchange rates.\n",
        "    This index suggests that, in the long run, exchange rates should adjust so that a basket of goods (represented by the Big Mac) costs the same in different countries.\n",
        "    While not a precise economic tool, the Big Mac Index has gained popularity for its simplicity in explaining complex economic concepts.\n",
        "    It's often used as a starting point for discussions about currency valuation and economic disparities between nations.\n",
        "    The index has even inspired similar comparisons using other products, like the \"iPad index\" or the \"Starbucks latte index\".\n",
        "    \"\"\"\n",
        "\n",
        "text_mcqs = qna_engine.generate_mcqs_from_data(\n",
        "        source=text_content,\n",
        "        source_type=\"text\",\n",
        "        num=3,\n",
        "    )\n",
        "\n",
        "text_mcqs.show()"
      ]
    },
    {
      "cell_type": "code",
      "execution_count": null,
      "metadata": {
        "id": "bhTPAyfQsmqp"
      },
      "outputs": [],
      "source": []
    },
    {
      "cell_type": "markdown",
      "metadata": {
        "id": "SVfBmvyUfJSK"
      },
      "source": [
        "### Generate MCQs from PDF"
      ]
    },
    {
      "cell_type": "code",
      "execution_count": 6,
      "metadata": {
        "colab": {
          "base_uri": "https://localhost:8080/"
        },
        "id": "j3NEVgP9erEj",
        "outputId": "45e4e534-e0da-4994-f269-eafef2ff4662"
      },
      "outputs": [
        {
          "name": "stdout",
          "output_type": "stream",
          "text": [
            "Question 1:\n",
            "Question: Who is the lead mentor for the course?\n",
            "Options:\n",
            "  A. Satvik\n",
            "  B. John\n",
            "  C. Emily\n",
            "  D. Michael\n",
            "\n",
            "Correct Answer: Satvik\n",
            "Explanation: Satvik is the founder of Build Fast with AI and the lead mentor for the course.\n",
            "\n",
            "Question 2:\n",
            "Question: What is the fee for the comprehensive 4-week course?\n",
            "Options:\n",
            "  A. Rs 10,000\n",
            "  B. Rs 15,000\n",
            "  C. Rs 20,000\n",
            "  D. Rs 25,000\n",
            "\n",
            "Correct Answer: Rs 20,000\n",
            "Explanation: The fee for the course is Rs 20,000, covering all instructional materials, hands-on sessions, and projects.\n",
            "\n",
            "Question 3:\n",
            "Question: Which module involves creating an AI Writer application?\n",
            "Options:\n",
            "  A. Week 1: Introduction to GenAI & Crafting your First AI Application\n",
            "  B. Week 2: Building AI Chatbots & Chat with Data (RAG)\n",
            "  C. Week 3: Fine Tuning Models on your Data + Intro to Audio Models\n",
            "  D. Week 4: AI Agents + Multimodal Models + Image Models\n",
            "\n",
            "Correct Answer: Week 3: Fine Tuning Models on your Data + Intro to Audio Models\n",
            "Explanation: The module in Week 3 involves building an AI Writer application that utilizes fine-tuned LLMs.\n",
            "\n",
            "Question 4:\n",
            "Question: What is the primary focus of Week 4 in the course?\n",
            "Options:\n",
            "  A. Building conversational chatbots\n",
            "  B. Exploring image models and multimodal models\n",
            "  C. Creating email generation applications\n",
            "  D. Understanding basics of Generative AI\n",
            "\n",
            "Correct Answer: Exploring image models and multimodal models\n",
            "Explanation: Week 4 focuses on investigating image models, multimodal models, and their applications in AI.\n",
            "\n",
            "Question 5:\n",
            "Question: What will participants receive upon successful completion of the course?\n",
            "Options:\n",
            "  A. Monetary reward\n",
            "  B. Internship opportunity\n",
            "  C. Certificate\n",
            "  D. Job offer\n",
            "\n",
            "Correct Answer: Certificate\n",
            "Explanation: Participants will receive a certificate acknowledging their proficiency and acquired skills in Generative AI.\n",
            "\n"
          ]
        }
      ],
      "source": [
        "pdf_mcqs = qna_engine.generate_mcqs_from_data(\n",
        "        source=\"/content/CrashCourse_Info_Cohort5.pdf\",\n",
        "        source_type=\"pdf\",\n",
        "        num=5\n",
        "    )\n",
        "\n",
        "pdf_mcqs.show()"
      ]
    },
    {
      "cell_type": "markdown",
      "metadata": {
        "id": "X02r9d95gKDu"
      },
      "source": [
        "### Using different models"
      ]
    },
    {
      "cell_type": "code",
      "execution_count": 7,
      "metadata": {
        "colab": {
          "base_uri": "https://localhost:8080/"
        },
        "id": "2g08bo-hgJsx",
        "outputId": "309bb808-8a0e-4b3c-c282-8d5896a9845d"
      },
      "outputs": [
        {
          "name": "stdout",
          "output_type": "stream",
          "text": [
            "\u001b[?25l     \u001b[90m━━━━━━━━━━━━━━━━━━━━━━━━━━━━━━━━━━━━━━━━\u001b[0m \u001b[32m0.0/164.2 kB\u001b[0m \u001b[31m?\u001b[0m eta \u001b[36m-:--:--\u001b[0m\r\u001b[2K     \u001b[90m━━━━━━━━━━━━━━━━━━━━━━━━━━━━━━━━━━━━━━━━\u001b[0m \u001b[32m164.2/164.2 kB\u001b[0m \u001b[31m5.2 MB/s\u001b[0m eta \u001b[36m0:00:00\u001b[0m\n",
            "\u001b[?25h\u001b[?25l     \u001b[90m━━━━━━━━━━━━━━━━━━━━━━━━━━━━━━━━━━━━━━━━\u001b[0m \u001b[32m0.0/718.3 kB\u001b[0m \u001b[31m?\u001b[0m eta \u001b[36m-:--:--\u001b[0m\r\u001b[2K     \u001b[90m━━━━━━━━━━━━━━━━━━━━━━━━━━━━━━━━━━━━━━━━\u001b[0m \u001b[32m718.3/718.3 kB\u001b[0m \u001b[31m20.5 MB/s\u001b[0m eta \u001b[36m0:00:00\u001b[0m\n",
            "\u001b[?25h"
          ]
        }
      ],
      "source": [
        "!pip install -qU langchain-google-genai"
      ]
    },
    {
      "cell_type": "code",
      "execution_count": 17,
      "metadata": {
        "id": "yMNmP676gGed"
      },
      "outputs": [],
      "source": [
        "from langchain_google_genai import ChatGoogleGenerativeAI\n",
        "from google.colab import userdata\n",
        "\n",
        "# Initialize Google's Gemini 1.5 Flash\n",
        "gemini_flash = ChatGoogleGenerativeAI(model = \"gemini-1.5-flash-latest\",\n",
        "                                      google_api_key=userdata.get('GOOGLE_API_KEY')\n",
        "                                      )\n",
        "\n",
        "gemini_pro = ChatGoogleGenerativeAI(model = \"gemini-1.5-pro-latest\",\n",
        "                                      google_api_key=userdata.get('GOOGLE_API_KEY')\n",
        "                                      )"
      ]
    },
    {
      "cell_type": "code",
      "execution_count": 23,
      "metadata": {
        "colab": {
          "base_uri": "https://localhost:8080/"
        },
        "id": "1T91bnJ3i54f",
        "outputId": "e9fd2e79-39db-4bbc-d76c-8adf5716b7b6"
      },
      "outputs": [
        {
          "name": "stdout",
          "output_type": "stream",
          "text": [
            "Error parsing output: Expecting value: line 1 column 1 (char 0)\n",
            "Raw output:\n",
            "```json\n",
            "{\n",
            "  \"questions\": [\n",
            "    {\n",
            "      \"question\": \"Which of the following is a real-life example of the butterfly effect?\",\n",
            "      \"options\": [\n",
            "        \"A small change in the initial conditions of a weather model leads to a significantly different weather forecast.\",\n",
            "        \"A butterfly flapping its wings causes a tornado in a distant location.\",\n",
            "        \"A single mutation in a gene can lead to a new species.\",\n",
            "        \"A drop of water falling into a pond creates ripples that spread outward.\"\n",
            "      ],\n",
            "      \"answer\": \"A small change in the initial conditions of a weather model leads to a significantly different weather forecast.\",\n",
            "      \"explanation\": \"This is the most accurate representation of the butterfly effect. The other options are not directly related to the concept of sensitive dependence on initial conditions.\"\n",
            "    },\n",
            "    {\n",
            "      \"question\": \"The butterfly effect is often used to explain why:\",\n",
            "      \"options\": [\n",
            "        \"It's impossible to predict the weather with absolute accuracy.\",\n",
            "        \"Small changes in the stock market can lead to large fluctuations.\",\n",
            "        \"It's difficult to predict the long-term behavior of complex systems.\",\n",
            "        \"All of the above.\"\n",
            "      ],\n",
            "      \"answer\": \"All of the above.\"\n",
            "    },\n",
            "    {\n",
            "      \"question\": \"Which of the following is NOT a real-world example of the butterfly effect?\",\n",
            "      \"options\": [\n",
            "        \"A small change in the trajectory of a spacecraft can lead to it missing its target.\",\n",
            "        \"A tiny spark can ignite a large forest fire.\",\n",
            "        \"A single bad decision can have a devastating impact on a person's life.\",\n",
            "        \"A change in the Earth's magnetic field can cause a shift in the climate.\"\n",
            "      ],\n",
            "      \"answer\": \"A tiny spark can ignite a large forest fire.\",\n",
            "      \"explanation\": \"While a spark can start a fire, this is not an example of the butterfly effect because it is a direct cause-and-effect relationship. The butterfly effect involves the amplification of small changes over time.\"\n",
            "    }\n",
            "  ]\n",
            "}\n",
            "```\n"
          ]
        }
      ],
      "source": [
        "from educhain import qna_engine\n",
        "\n",
        "url_mcqs = qna_engine.generate_mcqs_from_data(\n",
        "        source=\"https://en.wikipedia.org/wiki/Butterfly_effect\",\n",
        "        source_type=\"url\",\n",
        "        num=3,\n",
        "        learning_objective=\"real life examples\",\n",
        "        llm = gemini_flash\n",
        "    )\n",
        "\n",
        "url_mcqs.show()"
      ]
    },
    {
      "cell_type": "code",
      "execution_count": 19,
      "metadata": {
        "colab": {
          "base_uri": "https://localhost:8080/"
        },
        "id": "B1AHlDDLggfx",
        "outputId": "0ac03e78-e09b-42e3-c5fd-8c5cfa5626ba"
      },
      "outputs": [
        {
          "name": "stdout",
          "output_type": "stream",
          "text": [
            "Error parsing output: Expecting value: line 1 column 1 (char 0)\n",
            "Raw output:\n",
            "```json\n",
            "{\n",
            "  \"questions\": [\n",
            "    {\n",
            "      \"question\": \"Which cognitive bias describes the tendency to overestimate the likelihood of events that are easily recalled, often due to their recency or emotional impact?\",\n",
            "      \"options\": [\n",
            "        \"Anchoring bias\",\n",
            "        \"Availability heuristic\",\n",
            "        \"Confirmation bias\",\n",
            "        \"Egocentric bias\"\n",
            "      ],\n",
            "      \"answer\": \"Availability heuristic\",\n",
            "      \"explanation\": \"The availability heuristic is a mental shortcut where we judge the likelihood of events based on how easily examples come to mind. This often leads to overestimating the frequency or probability of events that are more vivid or readily available in our memory.\"\n",
            "    },\n",
            "    {\n",
            "      \"question\": \"The tendency to interpret ambiguous information in a way that supports pre-existing beliefs is known as:\",\n",
            "      \"options\": [\n",
            "        \"Anchoring bias\",\n",
            "        \"Confirmation bias\",\n",
            "        \"Framing effect\",\n",
            "        \"Loss aversion\"\n",
            "      ],\n",
            "      \"answer\": \"Confirmation bias\",\n",
            "      \"explanation\": \"Confirmation bias is the tendency to favor information that confirms our existing beliefs and to disregard or downplay information that contradicts them.\"\n",
            "    },\n",
            "    {\n",
            "      \"question\": \"Which of these biases describes the tendency to overestimate one's ability to control external events?\",\n",
            "      \"options\": [\n",
            "        \"Illusion of control\",\n",
            "        \"Overconfidence effect\",\n",
            "        \"Planning fallacy\",\n",
            "        \"Restraint bias\"\n",
            "      ],\n",
            "      \"answer\": \"Illusion of control\",\n",
            "      \"explanation\": \"The illusion of control is the belief that we have more influence over events than we actually do, even when those events are largely determined by chance or external factors.\"\n",
            "    }\n",
            "  ]\n",
            "}\n",
            "```\n"
          ]
        }
      ],
      "source": [
        "from educhain import qna_engine\n",
        "\n",
        "url_mcqs = qna_engine.generate_mcqs_from_data(\n",
        "        source=\"https://en.wikipedia.org/wiki/List_of_cognitive_biases\",\n",
        "        source_type=\"url\",\n",
        "        num=3,\n",
        "        learning_objective=\"Types of Biases\",\n",
        "        llm = gemini_flash\n",
        "    )\n",
        "\n",
        "url_mcqs.show()"
      ]
    },
    {
      "cell_type": "code",
      "execution_count": 24,
      "metadata": {
        "id": "Eoac9tDSisTk"
      },
      "outputs": [],
      "source": [
        "# Deepseek Model\n",
        "from langchain_openai import ChatOpenAI\n",
        "\n",
        "deepseek = ChatOpenAI(model = \"deepseek/deepseek-chat\",\n",
        "                      openai_api_key = userdata.get(\"OPENROUTER_API_KEY\"),\n",
        "                      openai_api_base = \"https://openrouter.ai/api/v1\"\n",
        "\n",
        ")"
      ]
    },
    {
      "cell_type": "code",
      "execution_count": 25,
      "metadata": {
        "colab": {
          "base_uri": "https://localhost:8080/"
        },
        "id": "4H7NfNiqjbtG",
        "outputId": "71fd6fc1-3c99-44ff-8b2c-c9b756b47338"
      },
      "outputs": [
        {
          "name": "stdout",
          "output_type": "stream",
          "text": [
            "Error parsing output: Expecting value: line 1 column 1 (char 0)\n",
            "Raw output:\n",
            "```json\n",
            "{\n",
            "  \"questions\": [\n",
            "    {\n",
            "      \"question\": \"What is the 'Anchoring Bias'?\",\n",
            "      \"options\": [\n",
            "        \"A tendency to rely too heavily on the first piece of information encountered\",\n",
            "        \"A tendency to ignore new information\",\n",
            "        \"A tendency to overestimate the importance of small details\",\n",
            "        \"A tendency to remember past events as more positive than they actually were\"\n",
            "      ],\n",
            "      \"answer\": \"A tendency to rely too heavily on the first piece of information encountered\",\n",
            "      \"explanation\": \"Anchoring bias refers to the common human tendency to rely too heavily on the first piece of information (the 'anchor') when making decisions.\"\n",
            "    },\n",
            "    {\n",
            "      \"question\": \"Which cognitive bias involves the tendency to perceive meaningful connections between unrelated things?\",\n",
            "      \"options\": [\n",
            "        \"Apophenia\",\n",
            "        \"Confirmation Bias\",\n",
            "        \"Hindsight Bias\",\n",
            "        \"Optimism Bias\"\n",
            "      ],\n",
            "      \"answer\": \"Apophenia\",\n",
            "      \"explanation\": \"Apophenia is the tendency to perceive patterns within random data or to see connections between unrelated things.\"\n",
            "    },\n",
            "    {\n",
            "      \"question\": \"What is the 'Availability Heuristic'?\",\n",
            "      \"options\": [\n",
            "        \"Overestimating the likelihood of events based on their availability in memory\",\n",
            "        \"Underestimating the importance of recent events\",\n",
            "        \"Ignoring available evidence\",\n",
            "        \"Preferring information that is easily accessible\"\n",
            "      ],\n",
            "      \"answer\": \"Overestimating the likelihood of events based on their availability in memory\",\n",
            "      \"explanation\": \"The availability heuristic is a mental shortcut that relies on immediate examples that come to a person's mind when evaluating a specific topic, concept, method, or decision.\"\n",
            "    },\n",
            "    {\n",
            "      \"question\": \"Which bias involves the tendency to search for, interpret, focus on, and remember information that confirms one's preconceptions?\",\n",
            "      \"options\": [\n",
            "        \"Confirmation Bias\",\n",
            "        \"Hindsight Bias\",\n",
            "        \"Optimism Bias\",\n",
            "        \"Anchoring Bias\"\n",
            "      ],\n",
            "      \"answer\": \"Confirmation Bias\",\n",
            "      \"explanation\": \"Confirmation bias is the tendency to focus on information that confirms one's existing beliefs or values while ignoring or discounting information that contradicts them.\"\n",
            "    }\n",
            "  ]\n",
            "}\n",
            "```\n"
          ]
        }
      ],
      "source": [
        "from educhain import qna_engine\n",
        "\n",
        "url_mcqs = qna_engine.generate_mcqs_from_data(\n",
        "        source=\"https://en.wikipedia.org/wiki/List_of_cognitive_biases\",\n",
        "        source_type=\"url\",\n",
        "        num=3,\n",
        "        learning_objective=\"Types of Biases\",\n",
        "        llm = deepseek\n",
        "    )\n",
        "\n",
        "url_mcqs.show()"
      ]
    },
    {
      "cell_type": "code",
      "execution_count": 31,
      "metadata": {
        "colab": {
          "base_uri": "https://localhost:8080/"
        },
        "id": "1NH5JnZBjf2z",
        "outputId": "2b1de30a-65fb-41c7-accd-9a944b79deea"
      },
      "outputs": [
        {
          "name": "stdout",
          "output_type": "stream",
          "text": [
            "Question 1:\n",
            "Question: Who is closely associated with the concept of the butterfly effect?\n",
            "Options:\n",
            "  A. Isaac Newton\n",
            "  B. Edward Norton Lorenz\n",
            "  C. Albert Einstein\n",
            "  D. Stephen Hawking\n",
            "\n",
            "Correct Answer: Edward Norton Lorenz\n",
            "Explanation: The butterfly effect is closely associated with the work of mathematician and meteorologist Edward Norton Lorenz.\n",
            "\n",
            "Question 2:\n",
            "Question: Which mathematical framework exhibits sensitive dependence on initial conditions?\n",
            "Options:\n",
            "  A. Logistic map\n",
            "  B. Linear equation\n",
            "  C. Quadratic formula\n",
            "  D. Trigonometric function\n",
            "\n",
            "Correct Answer: Logistic map\n",
            "Explanation: The logistic map provides a simple mathematical framework that demonstrates sensitive dependence on initial conditions, also known as the butterfly effect.\n",
            "\n",
            "Question 3:\n",
            "Question: What did Jacques Hadamard note in 1898 regarding trajectories in spaces of negative curvature?\n",
            "Options:\n",
            "  A. Convergence of trajectories\n",
            "  B. General divergence of trajectories\n",
            "  C. Circular trajectories\n",
            "  D. Stable trajectories\n",
            "\n",
            "Correct Answer: General divergence of trajectories\n",
            "Explanation: In 1898, Jacques Hadamard noted the general divergence of trajectories in spaces of negative curvature, which is a key concept related to chaos theory.\n",
            "\n",
            "Question 4:\n",
            "Question: Which physical system is commonly used to illustrate the butterfly effect?\n",
            "Options:\n",
            "  A. Double pendulum\n",
            "  B. Simple pendulum\n",
            "  C. Spring-mass system\n",
            "  D. Rotating disc\n",
            "\n",
            "Correct Answer: Double pendulum\n",
            "Explanation: The double pendulum is a physical system commonly used to demonstrate the butterfly effect, where small changes in initial conditions lead to significantly different outcomes.\n",
            "\n",
            "Question 5:\n",
            "Question: What does the butterfly effect challenge in terms of prediction?\n",
            "Options:\n",
            "  A. Accuracy of measurements\n",
            "  B. Stability of systems\n",
            "  C. Repeatability of experiments\n",
            "  D. Precision of initial conditions\n",
            "\n",
            "Correct Answer: Precision of initial conditions\n",
            "Explanation: The butterfly effect presents a challenge to prediction by highlighting the sensitivity of chaotic systems to small changes in initial conditions, making accurate predictions difficult.\n",
            "\n"
          ]
        }
      ],
      "source": [
        "from educhain import qna_engine\n",
        "\n",
        "mcqs_from_url = qna_engine.generate_mcqs_from_data(\n",
        "        source=\"https://en.wikipedia.org/wiki/Butterfly_effect\",\n",
        "        source_type=\"url\",\n",
        "        num=5\n",
        "    )\n",
        "\n",
        "mcqs_from_url.show()"
      ]
    },
    {
      "cell_type": "code",
      "execution_count": null,
      "metadata": {
        "id": "2Zx_KOf9kvks"
      },
      "outputs": [],
      "source": []
    }
  ],
  "metadata": {
    "colab": {
      "provenance": []
    },
    "kernelspec": {
      "display_name": "Python 3",
      "name": "python3"
    },
    "language_info": {
      "name": "python"
    }
  },
  "nbformat": 4,
  "nbformat_minor": 0
}
