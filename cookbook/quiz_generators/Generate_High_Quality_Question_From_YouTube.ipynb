{
  "nbformat": 4,
  "nbformat_minor": 0,
  "metadata": {
    "colab": {
      "provenance": []
    },
    "kernelspec": {
      "name": "python3",
      "display_name": "Python 3"
    },
    "language_info": {
      "name": "python"
    }
  },
  "cells": [
    {
      "cell_type": "markdown",
      "source": [
        "<img src=\"https://github.com/Shubhwithai/GRE_Geometry_quiz/blob/main/Group%2042.png?raw=true\" width=\"\" height=\"50\">\n",
        "\n",
        "Educhain is a powerful Python package that leverages Generative AI to create\n",
        "engaging and personalized educational content. From generating multiple-choice questions to crafting comprehensive lesson plans, Educhain makes it easy to apply AI in various educational scenarios.\n",
        "\n",
        "[![Open In Colab](https://colab.research.google.com/assets/colab-badge.svg)](https://colab.research.google.com/drive/1vA-B5UkJCRS9YGxNd4SdAQiISS9W1Rp4?usp=sharing)\n",
        "\n",
        "\n"
      ],
      "metadata": {
        "id": "83XvH0AEOoE_"
      }
    },
    {
      "cell_type": "markdown",
      "source": [
        "##Educhain :- Generate High Quality Question From YouTube Using Claude 3.7 Sonnet"
      ],
      "metadata": {
        "id": "Z1q86OZrQfNA"
      }
    },
    {
      "cell_type": "markdown",
      "source": [
        "Educhain is a revolutionary tool that transforms YouTube videos into interactive learning resources. Using Claude 3.7 Sonnet's advanced AI, it automatically generates high-quality questions from any educational video, making learning more engaging and efficient."
      ],
      "metadata": {
        "id": "CeSEXAvmq35S"
      }
    },
    {
      "cell_type": "code",
      "source": [
        "!pip install -qU educhain langchain_anthropic"
      ],
      "metadata": {
        "id": "Rrbxv2mEOV2o"
      },
      "execution_count": null,
      "outputs": []
    },
    {
      "cell_type": "markdown",
      "source": [
        "###**Setup API Keys**"
      ],
      "metadata": {
        "id": "dd6njNDrO5p6"
      }
    },
    {
      "cell_type": "code",
      "source": [
        "import os\n",
        "from google.colab import userdata\n",
        "\n",
        "os.environ[\"ANTHROPIC_API_KEY\"] = userdata.get('ANTHROPIC_API_KEY')"
      ],
      "metadata": {
        "id": "JMlCEY0BQkic"
      },
      "execution_count": null,
      "outputs": []
    },
    {
      "cell_type": "markdown",
      "source": [
        "###Imports And Educhain Configuration"
      ],
      "metadata": {
        "id": "o-_e7ZMTPFse"
      }
    },
    {
      "cell_type": "code",
      "source": [
        "from langchain_anthropic import ChatAnthropic\n",
        "from educhain import Educhain\n",
        "from educhain.core import LLMConfig\n",
        "\n",
        "claude = ChatAnthropic(model = \"claude-3-7-sonnet-20250219\")\n",
        "Claude_config = LLMConfig(custom_model=claude)\n",
        "client = Educhain(Claude_config)"
      ],
      "metadata": {
        "id": "M5Jz17fIRKN5"
      },
      "execution_count": null,
      "outputs": []
    },
    {
      "cell_type": "markdown",
      "source": [
        "### 📝 Generate Multiple Choice Questions from Youtube URL 🤔\n"
      ],
      "metadata": {
        "id": "MZfzy_AHUjXr"
      }
    },
    {
      "cell_type": "code",
      "source": [
        "# Basic example - Generate 3 multiple choice questions\n",
        "url = \"https://www.youtube.com/watch?v=gdMgBkPAZCU\"  # Example video about LLM\n",
        "questions = client.qna_engine.generate_questions_from_youtube(\n",
        "    url=url,\n",
        "    num=3,\n",
        "    question_type=\"Multiple Choice\"\n",
        ")\n",
        "\n",
        "questions.model_dump_json()"
      ],
      "metadata": {
        "id": "WCclCHwxS4p1",
        "colab": {
          "base_uri": "https://localhost:8080/",
          "height": 143
        },
        "outputId": "3a8a051e-95ad-4977-f142-b6e359f5c758"
      },
      "execution_count": null,
      "outputs": [
        {
          "output_type": "execute_result",
          "data": {
            "text/plain": [
              "'{\"questions\":[{\"question\":\"What is LLM Math Chain primarily used for?\",\"answer\":\"Mathematical operations and computations\",\"explanation\":\"The video explains that the LLM Math Chain is a class used for mathematical operations including arithmetic, algebra, and other mathematical computations.\",\"options\":[\"Mathematical operations and computations\",\"Natural language processing\",\"Image recognition\",\"Data visualization\"]},{\"question\":\"What parameter is set to \\'true\\' when initializing the LLM Math Chain?\",\"answer\":\"verbose\",\"explanation\":\"In the code demonstration, the parameter \\'verbose\\' is set to true when initializing the LLM Math Chain with \\'verbose=true\\'.\",\"options\":[\"verbose\",\"temperature\",\"debug\",\"trace\"]},{\"question\":\"What was the result when the LLM Math Chain calculated \\'the Square root of 100 divided by X when X is 4\\'?\",\"answer\":\"2500\",\"explanation\":\"The video shows that when asked to calculate the square root of 100 divided by 4, the LLM Math Chain returned 2500 as the answer.\",\"options\":[\"2500\",\"5\",\"25\",\"10\"]}]}'"
            ],
            "application/vnd.google.colaboratory.intrinsic+json": {
              "type": "string"
            }
          },
          "metadata": {},
          "execution_count": 7
        }
      ]
    },
    {
      "cell_type": "code",
      "source": [
        "questions.show()"
      ],
      "metadata": {
        "colab": {
          "base_uri": "https://localhost:8080/"
        },
        "id": "vONv10ppY4fF",
        "outputId": "b04609c4-49b5-4693-e22d-0f5a9d6587e4"
      },
      "execution_count": null,
      "outputs": [
        {
          "output_type": "stream",
          "name": "stdout",
          "text": [
            "Question 1:\n",
            "Question: What is LLM Math Chain primarily used for?\n",
            "Options:\n",
            "  A. Mathematical operations and computations\n",
            "  B. Natural language processing\n",
            "  C. Image recognition\n",
            "  D. Data visualization\n",
            "\n",
            "Correct Answer: Mathematical operations and computations\n",
            "Explanation: The video explains that the LLM Math Chain is a class used for mathematical operations including arithmetic, algebra, and other mathematical computations.\n",
            "\n",
            "Question 2:\n",
            "Question: What parameter is set to 'true' when initializing the LLM Math Chain?\n",
            "Options:\n",
            "  A. verbose\n",
            "  B. temperature\n",
            "  C. debug\n",
            "  D. trace\n",
            "\n",
            "Correct Answer: verbose\n",
            "Explanation: In the code demonstration, the parameter 'verbose' is set to true when initializing the LLM Math Chain with 'verbose=true'.\n",
            "\n",
            "Question 3:\n",
            "Question: What was the result when the LLM Math Chain calculated 'the Square root of 100 divided by X when X is 4'?\n",
            "Options:\n",
            "  A. 2500\n",
            "  B. 5\n",
            "  C. 25\n",
            "  D. 10\n",
            "\n",
            "Correct Answer: 2500\n",
            "Explanation: The video shows that when asked to calculate the square root of 100 divided by 4, the LLM Math Chain returned 2500 as the answer.\n",
            "\n"
          ]
        }
      ]
    },
    {
      "cell_type": "markdown",
      "source": [
        "###✅Fill in the blanks\n"
      ],
      "metadata": {
        "id": "o-1N3iDHQiIH"
      }
    },
    {
      "cell_type": "code",
      "source": [
        "# Basic example - Generate 3 Fill in the Blank questions\n",
        "url = \"https://www.youtube.com/watch?v=gdMgBkPAZCU\"  # Example video about LLM\n",
        "questions = client.qna_engine.generate_questions_from_youtube(\n",
        "    url=url,\n",
        "    num=3,\n",
        "    question_type=\"Fill in the Blank\"\n",
        ")\n",
        "\n",
        "questions.model_dump_json()"
      ],
      "metadata": {
        "id": "_Schy7bmS6bA",
        "colab": {
          "base_uri": "https://localhost:8080/",
          "height": 125
        },
        "outputId": "ab64d952-78f5-41fa-f58f-bbe0797ba356"
      },
      "execution_count": null,
      "outputs": [
        {
          "output_type": "execute_result",
          "data": {
            "text/plain": [
              "'{\"questions\":[{\"question\":\"Large Language Model Math Chain is a class used for ________ operations or arithmetic algebra.\",\"answer\":\"mathematical\",\"explanation\":\"The video explains that LLM Math Chain is specifically designed for mathematical operations, arithmetic, algebra, and other mathematical computations.\",\"blank_word\":\"mathematical\"},{\"question\":\"When creating an LLM Math Chain, we pass in the parameter \\'verbose\\' equal to ________ to see detailed outputs.\",\"answer\":\"true\",\"explanation\":\"In the video, when defining the LLM math chain, they set the verbose parameter to true with the line \\'verbose=true\\'.\",\"blank_word\":\"true\"},{\"question\":\"The LLM Math Chain correctly calculated the cosine of 90 degrees as ________.\",\"answer\":\"-0.448\",\"explanation\":\"When the video demonstrated using the LLM Math Chain to compute the cosine of 90 degrees, it returned approximately -0.448.\",\"blank_word\":\"-0.448\"}]}'"
            ],
            "application/vnd.google.colaboratory.intrinsic+json": {
              "type": "string"
            }
          },
          "metadata": {},
          "execution_count": 9
        }
      ]
    },
    {
      "cell_type": "code",
      "source": [
        "questions.show()"
      ],
      "metadata": {
        "colab": {
          "base_uri": "https://localhost:8080/"
        },
        "id": "rRuhy5QlYmPU",
        "outputId": "6add86d6-3e6c-48fb-8616-e8d3a67bd3e0"
      },
      "execution_count": null,
      "outputs": [
        {
          "output_type": "stream",
          "name": "stdout",
          "text": [
            "Question 1:\n",
            "Question: Large Language Model Math Chain is a class used for ________ operations or arithmetic algebra.\n",
            "Answer: mathematical\n",
            "Explanation: The video explains that LLM Math Chain is specifically designed for mathematical operations, arithmetic, algebra, and other mathematical computations.\n",
            "\n",
            "Word to fill: mathematical\n",
            "\n",
            "Question 2:\n",
            "Question: When creating an LLM Math Chain, we pass in the parameter 'verbose' equal to ________ to see detailed outputs.\n",
            "Answer: true\n",
            "Explanation: In the video, when defining the LLM math chain, they set the verbose parameter to true with the line 'verbose=true'.\n",
            "\n",
            "Word to fill: true\n",
            "\n",
            "Question 3:\n",
            "Question: The LLM Math Chain correctly calculated the cosine of 90 degrees as ________.\n",
            "Answer: -0.448\n",
            "Explanation: When the video demonstrated using the LLM Math Chain to compute the cosine of 90 degrees, it returned approximately -0.448.\n",
            "\n",
            "Word to fill: -0.448\n",
            "\n"
          ]
        }
      ]
    },
    {
      "cell_type": "markdown",
      "source": [
        "###✅ Short Answer\n"
      ],
      "metadata": {
        "id": "9ACnQfovVKlY"
      }
    },
    {
      "cell_type": "code",
      "source": [
        "# Basic example - Generate 3 Short Answer questions\n",
        "url = \"https://www.youtube.com/watch?v=gdMgBkPAZCU\"  # Example video about LLM\n",
        "questions = client.qna_engine.generate_questions_from_youtube(\n",
        "    url=url,\n",
        "    num=3,\n",
        "    question_type=\"Short Answer\"\n",
        ")\n",
        "\n",
        "questions.model_dump_json()"
      ],
      "metadata": {
        "colab": {
          "base_uri": "https://localhost:8080/",
          "height": 143
        },
        "id": "-zBiSZ0aT2EB",
        "outputId": "553e8d3b-a54c-4e3b-f736-422371d03742"
      },
      "execution_count": null,
      "outputs": [
        {
          "output_type": "execute_result",
          "data": {
            "text/plain": [
              "'{\"questions\":[{\"question\":\"What is the purpose of Large Language Model Math Chain?\",\"answer\":\"The Large Language Model Math Chain is used for mathematical operations including arithmetic, algebra, and other computations that agents can use to make mathematical calculations.\",\"explanation\":\"In the video, the presenter explains that LLM Math Chain is a tool or class that helps perform various mathematical operations and serves as a computational tool for agents.\",\"keywords\":[\"math chain\",\"arithmetic\",\"algebra\",\"mathematical operations\",\"computations\",\"LLM\"]},{\"question\":\"How do you initialize an LLM Math Chain in the code shown?\",\"answer\":\"You initialize LLM Math Chain by first creating an OpenAI LLM instance with a specified temperature, then creating an LLMMathChain instance by passing the LLM and setting verbose=True.\",\"explanation\":\"The video demonstrates initializing the math chain with code: llm = OpenAI(temperature=0.1) followed by llm_math = LLMMathChain.from_llm(llm, verbose=True)\",\"keywords\":[\"OpenAI\",\"LLMMathChain\",\"initialization\",\"temperature\",\"verbose\",\"from_llm\"]},{\"question\":\"What mathematical operation correctly returned 2.5 in the demonstration?\",\"answer\":\"The square root of 100 divided by 4.\",\"explanation\":\"In the final example, the presenter asks the math chain to calculate \\'what is the square root of 100 divided by X when X is 4\\' and it correctly calculated that √100/4 = 10/4 = 2.5.\",\"keywords\":[\"square root\",\"division\",\"calculation\",\"run method\",\"mathematical evaluation\"]}]}'"
            ],
            "application/vnd.google.colaboratory.intrinsic+json": {
              "type": "string"
            }
          },
          "metadata": {},
          "execution_count": 11
        }
      ]
    },
    {
      "cell_type": "code",
      "source": [
        "questions.show()"
      ],
      "metadata": {
        "colab": {
          "base_uri": "https://localhost:8080/"
        },
        "id": "kYlGB4QTRPrt",
        "outputId": "58566dbf-4505-4adc-c011-3963315a2182"
      },
      "execution_count": null,
      "outputs": [
        {
          "output_type": "stream",
          "name": "stdout",
          "text": [
            "Question 1:\n",
            "Question: What is the purpose of Large Language Model Math Chain?\n",
            "Answer: The Large Language Model Math Chain is used for mathematical operations including arithmetic, algebra, and other computations that agents can use to make mathematical calculations.\n",
            "Explanation: In the video, the presenter explains that LLM Math Chain is a tool or class that helps perform various mathematical operations and serves as a computational tool for agents.\n",
            "\n",
            "Keywords: math chain, arithmetic, algebra, mathematical operations, computations, LLM\n",
            "\n",
            "Question 2:\n",
            "Question: How do you initialize an LLM Math Chain in the code shown?\n",
            "Answer: You initialize LLM Math Chain by first creating an OpenAI LLM instance with a specified temperature, then creating an LLMMathChain instance by passing the LLM and setting verbose=True.\n",
            "Explanation: The video demonstrates initializing the math chain with code: llm = OpenAI(temperature=0.1) followed by llm_math = LLMMathChain.from_llm(llm, verbose=True)\n",
            "\n",
            "Keywords: OpenAI, LLMMathChain, initialization, temperature, verbose, from_llm\n",
            "\n",
            "Question 3:\n",
            "Question: What mathematical operation correctly returned 2.5 in the demonstration?\n",
            "Answer: The square root of 100 divided by 4.\n",
            "Explanation: In the final example, the presenter asks the math chain to calculate 'what is the square root of 100 divided by X when X is 4' and it correctly calculated that √100/4 = 10/4 = 2.5.\n",
            "\n",
            "Keywords: square root, division, calculation, run method, mathematical evaluation\n",
            "\n"
          ]
        }
      ]
    },
    {
      "cell_type": "markdown",
      "source": [
        "###✅ True/False Questions\n"
      ],
      "metadata": {
        "id": "h6OIpiK-RU_z"
      }
    },
    {
      "cell_type": "code",
      "source": [
        "# Basic example - Generate 3 True/False questions\n",
        "url = \"https://www.youtube.com/watch?v=gdMgBkPAZCU\"  # Example video about LLM\n",
        "questions = client.qna_engine.generate_questions_from_youtube(\n",
        "    url=url,\n",
        "    num=3,\n",
        "    question_type=\"True/False\"\n",
        ")\n",
        "\n",
        "questions.model_dump_json()"
      ],
      "metadata": {
        "colab": {
          "base_uri": "https://localhost:8080/",
          "height": 143
        },
        "id": "kotT_LvyRW81",
        "outputId": "85b712f2-5ab7-44f0-d51c-77074f6c0c29"
      },
      "execution_count": null,
      "outputs": [
        {
          "output_type": "execute_result",
          "data": {
            "text/plain": [
              "'{\"questions\":[{\"question\":\"The LLM Math Chain computes the cosine of 90 degrees as negative 0.448.\",\"answer\":true,\"explanation\":\"In the video, when the presenter runs the command to calculate the cosine of 90 degrees using the LLM Math Chain, it returns negative 0.448 as the result.\"},{\"question\":\"The LLM Math Chain is used primarily for natural language processing rather than mathematical operations.\",\"answer\":false,\"explanation\":\"The video explicitly states that LLM Math Chain is \\'used for mathematical operations or arithmetic algebra and things like that\\' and is \\'a tool that agents can use to make mathematical computations.\\'\"},{\"question\":\"The square root of 100 divided by 4 equals 2500 according to the LLM Math Chain in the video.\",\"answer\":true,\"explanation\":\"In the final example in the video, when asked to calculate \\'the square root of 100 divided by X when X is 4\\', the LLM Math Chain returns 2500 as the answer.\"}]}'"
            ],
            "application/vnd.google.colaboratory.intrinsic+json": {
              "type": "string"
            }
          },
          "metadata": {},
          "execution_count": 13
        }
      ]
    },
    {
      "cell_type": "code",
      "source": [
        "questions.show()"
      ],
      "metadata": {
        "colab": {
          "base_uri": "https://localhost:8080/"
        },
        "id": "DbgGvcrrRf81",
        "outputId": "f6f47e54-4287-4f1e-fc77-8d007faf50e3"
      },
      "execution_count": null,
      "outputs": [
        {
          "output_type": "stream",
          "name": "stdout",
          "text": [
            "Question 1:\n",
            "Question: The LLM Math Chain computes the cosine of 90 degrees as negative 0.448.\n",
            "Answer: True\n",
            "Explanation: In the video, when the presenter runs the command to calculate the cosine of 90 degrees using the LLM Math Chain, it returns negative 0.448 as the result.\n",
            "\n",
            "True/False: True\n",
            "\n",
            "Question 2:\n",
            "Question: The LLM Math Chain is used primarily for natural language processing rather than mathematical operations.\n",
            "Answer: False\n",
            "Explanation: The video explicitly states that LLM Math Chain is 'used for mathematical operations or arithmetic algebra and things like that' and is 'a tool that agents can use to make mathematical computations.'\n",
            "\n",
            "True/False: False\n",
            "\n",
            "Question 3:\n",
            "Question: The square root of 100 divided by 4 equals 2500 according to the LLM Math Chain in the video.\n",
            "Answer: True\n",
            "Explanation: In the final example in the video, when asked to calculate 'the square root of 100 divided by X when X is 4', the LLM Math Chain returns 2500 as the answer.\n",
            "\n",
            "True/False: True\n",
            "\n"
          ]
        }
      ]
    },
    {
      "cell_type": "markdown",
      "source": [
        "###🚀 Advanced Usage :- Generate Questions on Specific Language\n"
      ],
      "metadata": {
        "id": "piUwqu6RRvlZ"
      }
    },
    {
      "cell_type": "code",
      "source": [
        "# Generate open-ended questions in Hindi\n",
        "url = \"https://www.youtube.com/watch?v=gdMgBkPAZCU\"  # Example video about LLM\n",
        "questions_hindi = client.qna_engine.generate_questions_from_youtube(\n",
        "    url=url,\n",
        "    num=3,\n",
        "    target_language=\"hi\",\n",
        "    custom_instructions=\"Focus on conceptual understanding\"\n",
        ")\n",
        "\n",
        "questions_hindi.show()"
      ],
      "metadata": {
        "colab": {
          "base_uri": "https://localhost:8080/"
        },
        "id": "-W950V-YRwPI",
        "outputId": "25605a0c-5d75-4a01-81d9-9c5a32624616"
      },
      "execution_count": null,
      "outputs": [
        {
          "output_type": "stream",
          "name": "stdout",
          "text": [
            "Question 1:\n",
            "Question: बड़े भाषा मॉडल गणित श्रृंखला का उपयोग किस लिए किया जाता है?\n",
            "Options:\n",
            "  A. केवल वर्ग गणितीय कार्यों के लिए\n",
            "  B. गणितीय कार्यों या अंकगणितीय और बीजगणित के लिए\n",
            "  C. केवल कोसाइन और वर्गमूल निकालने के लिए\n",
            "  D. केवल पाइथन की तरह कोड लिखने के लिए\n",
            "\n",
            "Correct Answer: गणितीय कार्यों या अंकगणितीय और बीजगणित के लिए\n",
            "Explanation: वीडियो के शुरुआत में बताया गया है कि यह एक ऐसा उपकरण है जिसे एजेंट गणितीय गणना करने के लिए उपयोग कर सकते हैं।\n",
            "\n",
            "Question 2:\n",
            "Question: वीडियो में 90 डिग्री के कोसाइन का मान क्या प्राप्त हुआ?\n",
            "Options:\n",
            "  A. 0\n",
            "  B. 1\n",
            "  C. ऋणात्मक 0.448\n",
            "  D. 1.414\n",
            "\n",
            "Correct Answer: ऋणात्मक 0.448\n",
            "Explanation: वीडियो में दिखाया गया है कि जब LLM Math का उपयोग करके 90 डिग्री के कोसाइन की गणना की गई, तो परिणाम ऋणात्मक 0.448 था।\n",
            "\n",
            "Question 3:\n",
            "Question: वीडियो में आखिरी उदाहरण में क्या गणना की गई?\n",
            "Options:\n",
            "  A. 2 का वर्गमूल\n",
            "  B. 100 का वर्गमूल चार से विभाजित\n",
            "  C. 2 को x की घात तक बढ़ाया गया\n",
            "  D. 100 का वर्ग\n",
            "\n",
            "Correct Answer: 100 का वर्गमूल चार से विभाजित\n",
            "Explanation: अंतिम उदाहरण में, LLM Math का उपयोग करके '100 का वर्गमूल x से विभाजित होने पर क्या होता है जब x=4' इस गणितीय प्रश्न का मूल्यांकन किया गया और उत्तर 2.5 प्राप्त हुआ।\n",
            "\n"
          ]
        }
      ]
    },
    {
      "cell_type": "code",
      "source": [
        "# Generate true/false questions with specific instructions\n",
        "questions_tf = client.qna_engine.generate_questions_from_youtube(\n",
        "    url=url,\n",
        "    num=4,\n",
        "    question_type=\"True/False\",\n",
        "    target_language=\"mr\",\n",
        "    custom_instructions=\"Include questions that test critical thinking\",\n",
        "    output_format=\"pdf\"  # Save output as PDF\n",
        ")\n",
        "\n",
        "questions_tf.show()"
      ],
      "metadata": {
        "colab": {
          "base_uri": "https://localhost:8080/"
        },
        "id": "DxBf699oR3h-",
        "outputId": "4777dcb1-fe47-424f-a0db-3d1cfc604b93"
      },
      "execution_count": null,
      "outputs": [
        {
          "output_type": "stream",
          "name": "stdout",
          "text": [
            "Question 1:\n",
            "Question: व्हिडिओमध्ये वापरलेल्या LLM गणित साखळीने 90 अंशांचे कोसाइन मोजले आणि निगेटिव्ह 0.448 मिळाले.\n",
            "Answer: True\n",
            "Explanation: व्हिडिओमध्ये स्पष्टपणे दाखवले आहे की जेव्हा LLM गणित साखळीद्वारे 90 अंशांचे कोसाइन मोजले गेले, तेव्हा त्याचे उत्तर ऋण 0.448 मिळाले, जे पायथॉनच्या गणित मॉड्यूलच्या उत्तराशी जुळते.\n",
            "\n",
            "True/False: True\n",
            "\n",
            "Question 2:\n",
            "Question: व्हिडिओनुसार, LLM गणित साखळी फक्त कोसाइन सारख्या त्रिकोणमितीय क्रिया करण्यासाठी वापरली जाते.\n",
            "Answer: False\n",
            "Explanation: व्हिडिओमध्ये दिसून येते की LLM गणित साखळी विविध गणितीय क्रिया करू शकते, जसे की कोसाइन मोजणे, वर्गमूळ काढणे आणि अधिक जटिल उदाहरणे जसे '100 चे वर्गमूळ 4 ने भागले' यासारख्या गणना.\n",
            "\n",
            "True/False: False\n",
            "\n",
            "Question 3:\n",
            "Question: व्हिडिओनुसार, 2 चे वर्गमूळ 1.414 आहे हे LLM गणित साखळीने अचूकपणे मोजले.\n",
            "Answer: True\n",
            "Explanation: व्हिडिओमध्ये, LLM ने 2^(1/2) (2 चे वर्गमूळ) मोजले आणि त्यानंतर वक्त्याने पायथॉनच्या गणित मॉड्यूलद्वारे हे सत्यापित केले, ज्याने 1.414 इतके मूल्य दिले.\n",
            "\n",
            "True/False: True\n",
            "\n",
            "Question 4:\n",
            "Question: व्हिडिओमध्ये, '100 चे वर्गमूळ 4 ने भागले जेव्हा X = 4' या गणनेचे उत्तर 2500 मिळाले.\n",
            "Answer: True\n",
            "Explanation: व्हिडिओमध्ये, LLM गणित साखळीने '100 चे वर्गमूळ 4 ने भागले जेव्हा X = 4' या प्रश्नावर 2500 हे उत्तर दिले. हे उत्तर बरोबर आहे कारण 100 चे वर्गमूळ 10 असते आणि 10/4 = 2.5, मग सूत्राचा परिणाम 2500 येतो.\n",
            "\n",
            "True/False: True\n",
            "\n"
          ]
        }
      ]
    }
  ]
}