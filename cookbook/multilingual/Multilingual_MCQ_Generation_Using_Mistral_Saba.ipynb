{
  "nbformat": 4,
  "nbformat_minor": 0,
  "metadata": {
    "colab": {
      "provenance": []
    },
    "kernelspec": {
      "name": "python3",
      "display_name": "Python 3"
    },
    "language_info": {
      "name": "python"
    }
  },
  "cells": [
    {
      "cell_type": "markdown",
      "source": [
        "<img src=\"https://github.com/Shubhwithai/GRE_Geometry_quiz/blob/main/Group%2042.png?raw=true\" width=\"\" height=\"50\">\n",
        "\n",
        "Educhain is a powerful Python package that leverages Generative AI to create\n",
        "engaging and personalized educational content. From generating multiple-choice questions to crafting comprehensive lesson plans, Educhain makes it easy to apply AI in various educational scenarios.\n",
        "\n",
        "[![Open In Colab](https://colab.research.google.com/assets/colab-badge.svg)](https://colab.research.google.com/drive/1k6GC5gFEGCYPDuRg1bA6rq_EGPrnGAi7?usp=sharing)\n",
        "\n",
        "\n"
      ],
      "metadata": {
        "id": "PUxs7BdXm248"
      }
    },
    {
      "cell_type": "markdown",
      "source": [
        "##Multilingual MCQ Generation with Educhain and Mistral AI Saba Model"
      ],
      "metadata": {
        "id": "7fKgDc4dIJG7"
      }
    },
    {
      "cell_type": "markdown",
      "source": [
        "The Educhain Multilingual MCQ Generator leverages cutting-edge AI technologies to create high-quality multiple-choice questions across various languages, breaking down linguistic barriers in educational content creation."
      ],
      "metadata": {
        "id": "_rQh8iq4rB2y"
      }
    },
    {
      "cell_type": "markdown",
      "source": [
        "### Install necessary libraries\n"
      ],
      "metadata": {
        "id": "IGOSknRwIP4O"
      }
    },
    {
      "cell_type": "code",
      "execution_count": null,
      "metadata": {
        "id": "Vfop5KiBIH9R"
      },
      "outputs": [],
      "source": [
        "!pip install educhain -q"
      ]
    },
    {
      "cell_type": "markdown",
      "source": [
        "### Setup API Keys\n"
      ],
      "metadata": {
        "id": "xQ10SLCZIWqU"
      }
    },
    {
      "cell_type": "code",
      "source": [
        "import os\n",
        "from google.colab import userdata\n",
        "\n",
        "os.environ['OPENROUTER_API_KEY'] = userdata.get(\"OPENROUTER_API_KEY\")"
      ],
      "metadata": {
        "id": "Fk82j6apIY0-"
      },
      "execution_count": null,
      "outputs": []
    },
    {
      "cell_type": "markdown",
      "source": [
        "###Config"
      ],
      "metadata": {
        "id": "Hyq1O-Mzm_uS"
      }
    },
    {
      "cell_type": "code",
      "source": [
        "from educhain import Educhain, LLMConfig\n",
        "from langchain_openai import ChatOpenAI\n",
        "\n",
        "client_saba = ChatOpenAI(\n",
        "    model=\"mistralai/mistral-saba\",\n",
        "    openai_api_key=userdata.get('OPENROUTER_API_KEY'),\n",
        "    openai_api_base=\"https://openrouter.ai/api/v1\"\n",
        ")\n",
        "\n",
        "saba_config = LLMConfig(custom_model=client_saba)\n",
        "\n",
        "client = Educhain(saba_config)"
      ],
      "metadata": {
        "id": "lUSzuXp-kOIh"
      },
      "execution_count": null,
      "outputs": []
    },
    {
      "cell_type": "markdown",
      "source": [
        "###Generate MCQs in English\n"
      ],
      "metadata": {
        "id": "NDo26sT-l5QF"
      }
    },
    {
      "cell_type": "code",
      "source": [
        "print(\"\\n--- Generating MCQs in English (Topic: Physics Basics) ---\")\n",
        "questions_english = client.qna_engine.generate_questions(\n",
        "    topic=\"Physics Basics\",\n",
        "    num=3,\n",
        "    question_type=\"Multiple Choice\",\n",
        "    custom_instructions=\"Generate beginner-level questions in English.\"\n",
        ")\n",
        "\n",
        "questions_english.show()"
      ],
      "metadata": {
        "colab": {
          "base_uri": "https://localhost:8080/"
        },
        "id": "tRWYIRqqkwL9",
        "outputId": "515acb24-a73f-48f6-aac5-609b984d0df6"
      },
      "execution_count": null,
      "outputs": [
        {
          "output_type": "stream",
          "name": "stdout",
          "text": [
            "\n",
            "--- Generating MCQs in English (Topic: Physics Basics) ---\n",
            "Question 1:\n",
            "Question: What is the unit of force?\n",
            "Options:\n",
            "  A. Joule\n",
            "  B. Watt\n",
            "  C. Newton\n",
            "  D. Pascals\n",
            "\n",
            "Correct Answer: Newton\n",
            "Explanation: The Newton is the standard unit of force in the International System of Units (SI).\n",
            "\n",
            "Question 2:\n",
            "Question: What is the formula for calculating work?\n",
            "Options:\n",
            "  A. Work = Force / Distance\n",
            "  B. Work = Force × Distance\n",
            "  C. Work = Force + Distance\n",
            "  D. Work = Force - Distance\n",
            "\n",
            "Correct Answer: Work = Force × Distance\n",
            "Explanation: Work is calculated by multiplying the force applied to an object by the distance over which the force is applied.\n",
            "\n",
            "Question 3:\n",
            "Question: What is the formula for calculating power?\n",
            "Options:\n",
            "  A. Power = Work × Time\n",
            "  B. Power = Work / Time\n",
            "  C. Power = Work + Time\n",
            "  D. Power = Work - Time\n",
            "\n",
            "Correct Answer: Power = Work / Time\n",
            "Explanation: Power is the rate at which work is done, calculated by dividing the work done by the time taken to do it.\n",
            "\n"
          ]
        }
      ]
    },
    {
      "cell_type": "markdown",
      "source": [
        "###Generate MCQs in Hindi"
      ],
      "metadata": {
        "id": "Fgg8PcU1l0Mn"
      }
    },
    {
      "cell_type": "code",
      "source": [
        "print(\"\\n--- Generating MCQs in Hindi (Topic: भारतीय इतिहास) ---\")\n",
        "questions_hindi = client.qna_engine.generate_questions(\n",
        "    topic=\"भारतीय इतिहास\", # Topic: Indian History (in Hindi)\n",
        "    num=7,\n",
        "    question_type=\"Multiple Choice\",\n",
        "    custom_instructions=\"Generate beginner-level questions in Hindi.\"\n",
        ")\n",
        "\n",
        "questions_hindi.show()"
      ],
      "metadata": {
        "colab": {
          "base_uri": "https://localhost:8080/"
        },
        "id": "UESFrTd4lDxG",
        "outputId": "ef2ebf2b-5783-4b47-fb8c-c1153a936f48"
      },
      "execution_count": null,
      "outputs": [
        {
          "output_type": "stream",
          "name": "stdout",
          "text": [
            "\n",
            "--- Generating MCQs in Hindi (Topic: भारतीय इतिहास) ---\n",
            "Question 1:\n",
            "Question: भारतीय इतिहास में सबसे पहला साम्राज्य कौन सा था?\n",
            "Options:\n",
            "  A. मौर्य साम्राज्य\n",
            "  B. गुप्त साम्राज्य\n",
            "  C. मुगल साम्राज्य\n",
            "  D. विजयनगर साम्राज्य\n",
            "\n",
            "Correct Answer: मौर्य साम्राज्य\n",
            "\n",
            "Question 2:\n",
            "Question: भारत का पहला मुगल सम्राट कौन था?\n",
            "Options:\n",
            "  A. बाबर\n",
            "  B. अकबर\n",
            "  C. जहाँगीर\n",
            "  D. शाहजहाँ\n",
            "\n",
            "Correct Answer: बाबर\n",
            "\n",
            "Question 3:\n",
            "Question: भारत का पहला स्वतंत्रता संग्राम कब हुआ था?\n",
            "Options:\n",
            "  A. 1857\n",
            "  B. 1947\n",
            "  C. 1905\n",
            "  D. 1920\n",
            "\n",
            "Correct Answer: 1857\n",
            "\n",
            "Question 4:\n",
            "Question: भारत का पहला गणतंत्र दिवस कब मनाया गया था?\n",
            "Options:\n",
            "  A. 26 जनवरी 1950\n",
            "  B. 15 अगस्त 1947\n",
            "  C. 26 जनवरी 1948\n",
            "  D. 15 अगस्त 1950\n",
            "\n",
            "Correct Answer: 26 जनवरी 1950\n",
            "\n",
            "Question 5:\n",
            "Question: भारत का पहला स्वतंत्रता सेनानी कौन था?\n",
            "Options:\n",
            "  A. मंगल पांडे\n",
            "  B. भगत सिंह\n",
            "  C. सुभाष चंद्र बोस\n",
            "  D. महात्मा गांधी\n",
            "\n",
            "Correct Answer: मंगल पांडे\n",
            "\n",
            "Question 6:\n",
            "Question: भारत का पहला विश्वविद्यालय कौन सा था?\n",
            "Options:\n",
            "  A. नालंदा विश्वविद्यालय\n",
            "  B. तक्षशिला विश्वविद्यालय\n",
            "  C. बनारस हिंदू विश्वविद्यालय\n",
            "  D. दिल्ली विश्वविद्यालय\n",
            "\n",
            "Correct Answer: नालंदा विश्वविद्यालय\n",
            "\n",
            "Question 7:\n",
            "Question: भारत का पहला राष्ट्रपति कौन था?\n",
            "Options:\n",
            "  A. डॉ. राजेंद्र प्रसाद\n",
            "  B. जवाहरलाल नेहरू\n",
            "  C. सर्वपल्ली राधाकृष्णन\n",
            "  D. अब्दुल कलाम\n",
            "\n",
            "Correct Answer: डॉ. राजेंद्र प्रसाद\n",
            "\n"
          ]
        }
      ]
    },
    {
      "cell_type": "markdown",
      "source": [
        "###Generate MCQs in Tamil"
      ],
      "metadata": {
        "id": "qRefAjYSlu5R"
      }
    },
    {
      "cell_type": "code",
      "source": [
        "print(\"\\n--- Generating MCQs in Tamil (Topic: தமிழ் இலக்கியம்) ---\")\n",
        "questions_tamil = client.qna_engine.generate_questions(\n",
        "    topic=\"தமிழ் இலக்கியம்\", # Topic: Tamil Literature (in Tamil)\n",
        "    num=3,\n",
        "    question_type=\"Multiple Choice\",\n",
        "    custom_instructions=\"Generate beginner-level questions in Tamil.\"\n",
        ")\n",
        "\n",
        "questions_tamil.show()"
      ],
      "metadata": {
        "colab": {
          "base_uri": "https://localhost:8080/"
        },
        "id": "a9YEo75ZlJVZ",
        "outputId": "7d44c331-cdbb-47e7-d243-0caa7df9c3e9"
      },
      "execution_count": null,
      "outputs": [
        {
          "output_type": "stream",
          "name": "stdout",
          "text": [
            "\n",
            "--- Generating MCQs in Tamil (Topic: தமிழ் இலக்கியம்) ---\n",
            "Question 1:\n",
            "Question: தமிழ் இலக்கியத்தின் முதல் நூல் எது?\n",
            "Options:\n",
            "  A. தொல்காப்பியம்\n",
            "  B. சிலப்பதிகாரம்\n",
            "  C. மணிமேகலை\n",
            "  D. குறள்நெறி\n",
            "\n",
            "Correct Answer: தொல்காப்பியம்\n",
            "Explanation: தொல்காப்பியம் தமிழ் இலக்கியத்தின் முதல் நூலாக கருதப்படுகிறது.\n",
            "\n",
            "Question 2:\n",
            "Question: சங்க இலக்கியம் எத்தனை தொகுப்புகளாக பிரிக்கப்பட்டுள்ளது?\n",
            "Options:\n",
            "  A. எட்டு\n",
            "  B. பத்து\n",
            "  C. ஆறு\n",
            "  D. பன்னிரண்டு\n",
            "\n",
            "Correct Answer: எட்டு\n",
            "Explanation: சங்க இலக்கியம் எட்டு தொகுப்புகளாக பிரிக்கப்பட்டுள்ளது.\n",
            "\n",
            "Question 3:\n",
            "Question: சிலப்பதிகாரம் எந்த காலகட்டத்தில் எழுதப்பட்டது?\n",
            "Options:\n",
            "  A. கி.பி. 2ஆம் நூற்றாண்டு\n",
            "  B. கி.பி. 5ஆம் நூற்றாண்டு\n",
            "  C. கி.பி. 8ஆம் நூற்றாண்டு\n",
            "  D. கி.பி. 10ஆம் நூற்றாண்டு\n",
            "\n",
            "Correct Answer: கி.பி. 2ஆம் நூற்றாண்டு\n",
            "Explanation: சிலப்பதிகாரம் கி.பி. 2ஆம் நூற்றாண்டில் எழுதப்பட்டது.\n",
            "\n"
          ]
        }
      ]
    },
    {
      "cell_type": "markdown",
      "source": [
        "###Generate MCQs in Malayalam"
      ],
      "metadata": {
        "id": "G-LJSwl4lqn1"
      }
    },
    {
      "cell_type": "code",
      "source": [
        "print(\"\\n--- Generating MCQs in Malayalam (Topic: മലയാള സാഹിത്യം) ---\")\n",
        "questions_malayalam = client.qna_engine.generate_questions(\n",
        "    topic=\"മലയാള സാഹിത്യം\", # Topic: Malayalam Literature (in Malayalam)\n",
        "    num=3,\n",
        "    question_type=\"Multiple Choice\",\n",
        "    custom_instructions=\"Generate beginner-level questions in Malayalam.\"\n",
        ")\n",
        "\n",
        "questions_malayalam.show()"
      ],
      "metadata": {
        "colab": {
          "base_uri": "https://localhost:8080/"
        },
        "id": "IuH-cmFzlcP_",
        "outputId": "5f0e9b81-327d-4295-f16a-85c82e99651f"
      },
      "execution_count": null,
      "outputs": [
        {
          "output_type": "stream",
          "name": "stdout",
          "text": [
            "\n",
            "--- Generating MCQs in Malayalam (Topic: മലയാള സാഹിത്യം) ---\n",
            "Question 1:\n",
            "Question: മലയാള സാഹിത്യത്തിലെ ആദ്യത്തെ നോവൽ എന്താണ്?\n",
            "Options:\n",
            "  A. കുണ്ടലത\n",
            "  B. ഇന്ദുലേഖ\n",
            "  C. കേരളസിംഹാസനം\n",
            "  D. അയ്യപ്പൻ\n",
            "\n",
            "Correct Answer: കുണ്ടലത\n",
            "\n",
            "Question 2:\n",
            "Question: മലയാള സാഹിത്യത്തിലെ ആദ്യത്തെ കവിതാസമാഹാരം എന്താണ്?\n",
            "Options:\n",
            "  A. അയ്യപ്പൻ\n",
            "  B. ഇന്ദുലേഖ\n",
            "  C. കേരളസിംഹാസനം\n",
            "  D. കുണ്ടലത\n",
            "\n",
            "Correct Answer: അയ്യപ്പൻ\n",
            "\n",
            "Question 3:\n",
            "Question: മലയാള സാഹിത്യത്തിലെ ആദ്യത്തെ നാടകം എന്താണ്?\n",
            "Options:\n",
            "  A. അയ്യപ്പൻ\n",
            "  B. ഇന്ദുലേഖ\n",
            "  C. കേരളസിംഹാസനം\n",
            "  D. കുണ്ടലത\n",
            "\n",
            "Correct Answer: അയ്യപ്പൻ\n",
            "\n"
          ]
        }
      ]
    }
  ]
}