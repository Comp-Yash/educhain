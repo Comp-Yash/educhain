{
  "nbformat": 4,
  "nbformat_minor": 0,
  "metadata": {
    "colab": {
      "provenance": []
    },
    "kernelspec": {
      "name": "python3",
      "display_name": "Python 3"
    },
    "language_info": {
      "name": "python"
    }
  },
  "cells": [
    {
      "cell_type": "markdown",
      "source": [
        "## Generating MCQs on Latest News"
      ],
      "metadata": {
        "id": "K3OpxF6KTf5W"
      }
    },
    {
      "cell_type": "markdown",
      "source": [
        "This Colab notebook demonstrates how to generate multiple-choice questions (MCQs)\n",
        "based on the latest news using AI-powered tools.\n",
        "\n",
        "Key features:\n",
        "1. Fetches recent news on a specified topic using Perplexity's Sonar API\n",
        "2. Generates MCQs from the fetched news content using Educhain's qna_engine\n",
        "3. Customizable number of questions and topic selection\n"
      ],
      "metadata": {
        "id": "gqUYIUkVw8-w"
      }
    },
    {
      "cell_type": "markdown",
      "source": [
        "[![Open In Colab](https://colab.research.google.com/assets/colab-badge.svg)](https://colab.research.google.com/drive/1MGFx9hY1tXu7Re3hK6NMG-88E1PdukXE?usp=sharing)"
      ],
      "metadata": {
        "id": "Wo6WLPxvU0og"
      }
    },
    {
      "cell_type": "code",
      "execution_count": 1,
      "metadata": {
        "id": "5P_SfI0SNKfF",
        "colab": {
          "base_uri": "https://localhost:8080/"
        },
        "outputId": "b78a83d8-5cdf-434c-c7bf-24284b7d2538"
      },
      "outputs": [
        {
          "output_type": "stream",
          "name": "stdout",
          "text": [
            "\u001b[?25l     \u001b[90m━━━━━━━━━━━━━━━━━━━━━━━━━━━━━━━━━━━━━━━━\u001b[0m \u001b[32m0.0/67.3 kB\u001b[0m \u001b[31m?\u001b[0m eta \u001b[36m-:--:--\u001b[0m\r\u001b[2K     \u001b[90m━━━━━━━━━━━━━━━━━━━━━━━━━━━━━━━━━━━━━━━━\u001b[0m \u001b[32m67.3/67.3 kB\u001b[0m \u001b[31m2.5 MB/s\u001b[0m eta \u001b[36m0:00:00\u001b[0m\n",
            "\u001b[?25h  Installing build dependencies ... \u001b[?25l\u001b[?25hdone\n",
            "  Getting requirements to build wheel ... \u001b[?25l\u001b[?25hdone\n",
            "  Preparing metadata (pyproject.toml) ... \u001b[?25l\u001b[?25hdone\n",
            "\u001b[2K     \u001b[90m━━━━━━━━━━━━━━━━━━━━━━━━━━━━━━━━━━━━━━━━\u001b[0m \u001b[32m50.4/50.4 kB\u001b[0m \u001b[31m1.7 MB/s\u001b[0m eta \u001b[36m0:00:00\u001b[0m\n",
            "\u001b[?25h  Preparing metadata (setup.py) ... \u001b[?25l\u001b[?25hdone\n",
            "\u001b[2K   \u001b[90m━━━━━━━━━━━━━━━━━━━━━━━━━━━━━━━━━━━━━━━━\u001b[0m \u001b[32m599.2/599.2 kB\u001b[0m \u001b[31m22.2 MB/s\u001b[0m eta \u001b[36m0:00:00\u001b[0m\n",
            "\u001b[2K   \u001b[90m━━━━━━━━━━━━━━━━━━━━━━━━━━━━━━━━━━━━━━━━\u001b[0m \u001b[32m2.4/2.4 MB\u001b[0m \u001b[31m62.3 MB/s\u001b[0m eta \u001b[36m0:00:00\u001b[0m\n",
            "\u001b[2K   \u001b[90m━━━━━━━━━━━━━━━━━━━━━━━━━━━━━━━━━━━━━━━━\u001b[0m \u001b[32m1.0/1.0 MB\u001b[0m \u001b[31m41.0 MB/s\u001b[0m eta \u001b[36m0:00:00\u001b[0m\n",
            "\u001b[2K   \u001b[90m━━━━━━━━━━━━━━━━━━━━━━━━━━━━━━━━━━━━━━━━\u001b[0m \u001b[32m2.3/2.3 MB\u001b[0m \u001b[31m51.7 MB/s\u001b[0m eta \u001b[36m0:00:00\u001b[0m\n",
            "\u001b[2K   \u001b[90m━━━━━━━━━━━━━━━━━━━━━━━━━━━━━━━━━━━━━━━━\u001b[0m \u001b[32m51.5/51.5 kB\u001b[0m \u001b[31m2.9 MB/s\u001b[0m eta \u001b[36m0:00:00\u001b[0m\n",
            "\u001b[2K   \u001b[90m━━━━━━━━━━━━━━━━━━━━━━━━━━━━━━━━━━━━━━━━\u001b[0m \u001b[32m375.6/375.6 kB\u001b[0m \u001b[31m19.1 MB/s\u001b[0m eta \u001b[36m0:00:00\u001b[0m\n",
            "\u001b[2K   \u001b[90m━━━━━━━━━━━━━━━━━━━━━━━━━━━━━━━━━━━━━━━━\u001b[0m \u001b[32m232.6/232.6 kB\u001b[0m \u001b[31m13.2 MB/s\u001b[0m eta \u001b[36m0:00:00\u001b[0m\n",
            "\u001b[2K   \u001b[90m━━━━━━━━━━━━━━━━━━━━━━━━━━━━━━━━━━━━━━━━\u001b[0m \u001b[32m1.9/1.9 MB\u001b[0m \u001b[31m54.2 MB/s\u001b[0m eta \u001b[36m0:00:00\u001b[0m\n",
            "\u001b[2K   \u001b[90m━━━━━━━━━━━━━━━━━━━━━━━━━━━━━━━━━━━━━━━━\u001b[0m \u001b[32m273.8/273.8 kB\u001b[0m \u001b[31m16.3 MB/s\u001b[0m eta \u001b[36m0:00:00\u001b[0m\n",
            "\u001b[2K   \u001b[90m━━━━━━━━━━━━━━━━━━━━━━━━━━━━━━━━━━━━━━━━\u001b[0m \u001b[32m94.6/94.6 kB\u001b[0m \u001b[31m6.2 MB/s\u001b[0m eta \u001b[36m0:00:00\u001b[0m\n",
            "\u001b[2K   \u001b[90m━━━━━━━━━━━━━━━━━━━━━━━━━━━━━━━━━━━━━━━━\u001b[0m \u001b[32m76.4/76.4 kB\u001b[0m \u001b[31m5.1 MB/s\u001b[0m eta \u001b[36m0:00:00\u001b[0m\n",
            "\u001b[2K   \u001b[90m━━━━━━━━━━━━━━━━━━━━━━━━━━━━━━━━━━━━━━━━\u001b[0m \u001b[32m77.9/77.9 kB\u001b[0m \u001b[31m5.2 MB/s\u001b[0m eta \u001b[36m0:00:00\u001b[0m\n",
            "\u001b[2K   \u001b[90m━━━━━━━━━━━━━━━━━━━━━━━━━━━━━━━━━━━━━━━━\u001b[0m \u001b[32m318.9/318.9 kB\u001b[0m \u001b[31m18.9 MB/s\u001b[0m eta \u001b[36m0:00:00\u001b[0m\n",
            "\u001b[2K   \u001b[90m━━━━━━━━━━━━━━━━━━━━━━━━━━━━━━━━━━━━━━━━\u001b[0m \u001b[32m1.9/1.9 MB\u001b[0m \u001b[31m57.9 MB/s\u001b[0m eta \u001b[36m0:00:00\u001b[0m\n",
            "\u001b[2K   \u001b[90m━━━━━━━━━━━━━━━━━━━━━━━━━━━━━━━━━━━━━━━━\u001b[0m \u001b[32m399.9/399.9 kB\u001b[0m \u001b[31m22.3 MB/s\u001b[0m eta \u001b[36m0:00:00\u001b[0m\n",
            "\u001b[2K   \u001b[90m━━━━━━━━━━━━━━━━━━━━━━━━━━━━━━━━━━━━━━━━\u001b[0m \u001b[32m290.2/290.2 kB\u001b[0m \u001b[31m19.5 MB/s\u001b[0m eta \u001b[36m0:00:00\u001b[0m\n",
            "\u001b[2K   \u001b[90m━━━━━━━━━━━━━━━━━━━━━━━━━━━━━━━━━━━━━━━━\u001b[0m \u001b[32m93.2/93.2 kB\u001b[0m \u001b[31m5.8 MB/s\u001b[0m eta \u001b[36m0:00:00\u001b[0m\n",
            "\u001b[2K   \u001b[90m━━━━━━━━━━━━━━━━━━━━━━━━━━━━━━━━━━━━━━━━\u001b[0m \u001b[32m13.2/13.2 MB\u001b[0m \u001b[31m76.4 MB/s\u001b[0m eta \u001b[36m0:00:00\u001b[0m\n",
            "\u001b[2K   \u001b[90m━━━━━━━━━━━━━━━━━━━━━━━━━━━━━━━━━━━━━━━━\u001b[0m \u001b[32m64.0/64.0 kB\u001b[0m \u001b[31m4.4 MB/s\u001b[0m eta \u001b[36m0:00:00\u001b[0m\n",
            "\u001b[2K   \u001b[90m━━━━━━━━━━━━━━━━━━━━━━━━━━━━━━━━━━━━━━━━\u001b[0m \u001b[32m52.5/52.5 kB\u001b[0m \u001b[31m3.4 MB/s\u001b[0m eta \u001b[36m0:00:00\u001b[0m\n",
            "\u001b[2K   \u001b[90m━━━━━━━━━━━━━━━━━━━━━━━━━━━━━━━━━━━━━━━━\u001b[0m \u001b[32m149.7/149.7 kB\u001b[0m \u001b[31m10.5 MB/s\u001b[0m eta \u001b[36m0:00:00\u001b[0m\n",
            "\u001b[2K   \u001b[90m━━━━━━━━━━━━━━━━━━━━━━━━━━━━━━━━━━━━━━━━\u001b[0m \u001b[32m110.5/110.5 kB\u001b[0m \u001b[31m7.4 MB/s\u001b[0m eta \u001b[36m0:00:00\u001b[0m\n",
            "\u001b[2K   \u001b[90m━━━━━━━━━━━━━━━━━━━━━━━━━━━━━━━━━━━━━━━━\u001b[0m \u001b[32m141.9/141.9 kB\u001b[0m \u001b[31m9.9 MB/s\u001b[0m eta \u001b[36m0:00:00\u001b[0m\n",
            "\u001b[2K   \u001b[90m━━━━━━━━━━━━━━━━━━━━━━━━━━━━━━━━━━━━━━━━\u001b[0m \u001b[32m54.3/54.3 kB\u001b[0m \u001b[31m3.1 MB/s\u001b[0m eta \u001b[36m0:00:00\u001b[0m\n",
            "\u001b[2K   \u001b[90m━━━━━━━━━━━━━━━━━━━━━━━━━━━━━━━━━━━━━━━━\u001b[0m \u001b[32m1.1/1.1 MB\u001b[0m \u001b[31m47.5 MB/s\u001b[0m eta \u001b[36m0:00:00\u001b[0m\n",
            "\u001b[2K   \u001b[90m━━━━━━━━━━━━━━━━━━━━━━━━━━━━━━━━━━━━━━━━\u001b[0m \u001b[32m62.8/62.8 kB\u001b[0m \u001b[31m4.4 MB/s\u001b[0m eta \u001b[36m0:00:00\u001b[0m\n",
            "\u001b[2K   \u001b[90m━━━━━━━━━━━━━━━━━━━━━━━━━━━━━━━━━━━━━━━━\u001b[0m \u001b[32m58.3/58.3 kB\u001b[0m \u001b[31m3.7 MB/s\u001b[0m eta \u001b[36m0:00:00\u001b[0m\n",
            "\u001b[2K   \u001b[90m━━━━━━━━━━━━━━━━━━━━━━━━━━━━━━━━━━━━━━━━\u001b[0m \u001b[32m341.4/341.4 kB\u001b[0m \u001b[31m19.3 MB/s\u001b[0m eta \u001b[36m0:00:00\u001b[0m\n",
            "\u001b[2K   \u001b[90m━━━━━━━━━━━━━━━━━━━━━━━━━━━━━━━━━━━━━━━━\u001b[0m \u001b[32m49.3/49.3 kB\u001b[0m \u001b[31m3.3 MB/s\u001b[0m eta \u001b[36m0:00:00\u001b[0m\n",
            "\u001b[2K   \u001b[90m━━━━━━━━━━━━━━━━━━━━━━━━━━━━━━━━━━━━━━━━\u001b[0m \u001b[32m71.5/71.5 kB\u001b[0m \u001b[31m4.9 MB/s\u001b[0m eta \u001b[36m0:00:00\u001b[0m\n",
            "\u001b[2K   \u001b[90m━━━━━━━━━━━━━━━━━━━━━━━━━━━━━━━━━━━━━━━━\u001b[0m \u001b[32m3.4/3.4 MB\u001b[0m \u001b[31m66.2 MB/s\u001b[0m eta \u001b[36m0:00:00\u001b[0m\n",
            "\u001b[2K   \u001b[90m━━━━━━━━━━━━━━━━━━━━━━━━━━━━━━━━━━━━━━━━\u001b[0m \u001b[32m425.7/425.7 kB\u001b[0m \u001b[31m25.0 MB/s\u001b[0m eta \u001b[36m0:00:00\u001b[0m\n",
            "\u001b[2K   \u001b[90m━━━━━━━━━━━━━━━━━━━━━━━━━━━━━━━━━━━━━━━━\u001b[0m \u001b[32m164.1/164.1 kB\u001b[0m \u001b[31m11.5 MB/s\u001b[0m eta \u001b[36m0:00:00\u001b[0m\n",
            "\u001b[2K   \u001b[90m━━━━━━━━━━━━━━━━━━━━━━━━━━━━━━━━━━━━━━━━\u001b[0m \u001b[32m46.0/46.0 kB\u001b[0m \u001b[31m2.9 MB/s\u001b[0m eta \u001b[36m0:00:00\u001b[0m\n",
            "\u001b[2K   \u001b[90m━━━━━━━━━━━━━━━━━━━━━━━━━━━━━━━━━━━━━━━━\u001b[0m \u001b[32m86.8/86.8 kB\u001b[0m \u001b[31m6.6 MB/s\u001b[0m eta \u001b[36m0:00:00\u001b[0m\n",
            "\u001b[?25h  Building wheel for pypika (pyproject.toml) ... \u001b[?25l\u001b[?25hdone\n",
            "  Building wheel for durationpy (setup.py) ... \u001b[?25l\u001b[?25hdone\n"
          ]
        }
      ],
      "source": [
        "!pip install -qU educhain --quiet"
      ]
    },
    {
      "cell_type": "code",
      "source": [
        "import os\n",
        "from google.colab import userdata\n",
        "\n",
        "os.environ[\"OPENAI_API_KEY\"] = userdata.get('OPENAI_API_KEY')"
      ],
      "metadata": {
        "id": "yzzBu9RWPT8p"
      },
      "execution_count": null,
      "outputs": []
    },
    {
      "cell_type": "markdown",
      "source": [
        "### Using Perplexity Online APIs to fetch latest news"
      ],
      "metadata": {
        "id": "mK-xA8GKUgzk"
      }
    },
    {
      "cell_type": "code",
      "source": [
        "from langchain_openai import ChatOpenAI\n",
        "from google.colab import userdata\n",
        "\n",
        "sonar = ChatOpenAI(model = \"perplexity/llama-3.1-sonar-small-128k-online\",\n",
        "                      openai_api_key = userdata.get(\"OPENROUTER_API_KEY\"),\n",
        "                      openai_api_base = \"https://openrouter.ai/api/v1\"\n",
        "\n",
        ")\n",
        "\n",
        "response = sonar.invoke(\"Give me the latest upates on AI on 18th July\")\n",
        "print(response.content)"
      ],
      "metadata": {
        "colab": {
          "base_uri": "https://localhost:8080/"
        },
        "id": "4H0l7i6oNRKW",
        "outputId": "4999d64a-ea3b-4773-87a3-4ce3225df4a3"
      },
      "execution_count": null,
      "outputs": [
        {
          "output_type": "stream",
          "name": "stdout",
          "text": [
            "As of July 18, 2024, here are the latest updates on AI:\n",
            "\n",
            "1. **LLaMa-2 Day and AI Model Releases**:\n",
            "   - July 18th marked the anniversary of LLaMa-2, an open-source AI model released last year. The day also highlighted the release of the Mistral Nemo 12B model, developed by Mistral and Nvidia, which has shown impressive performance in language tasks and context length.\n",
            "\n",
            "2. **AI in Healthcare and Robots**:\n",
            "   - Researchers are leveraging AI to train robotic dogs to respond to their masters and developing new video tests for Parkinson's disease progression using AI.\n",
            "   - AI is being used to create skin-inspired sensory robots for medical treatment and to design environments that are robot-inclusive.\n",
            "\n",
            "3. **AI in Marketing and Customer Intelligence**:\n",
            "   - SugarCRM added generative AI features to enhance customer intelligence and boost productivity for sales and service teams. Features include Opportunity Summarization and Case Summarization.\n",
            "   - AdCreative.ai’s AdLLM Spark is an AI/LLM built exclusively for advertising, designed to generate high-conversion-rate advertising texts.\n",
            "\n",
            "4. **AI in Scientific Research and Regulations**:\n",
            "   - Google announced the development of AlphaFold 3, an AI system for predicting protein structures, expected to significantly advance scientific research.\n",
            "   - The UK government is working on establishing rules for the most powerful AI models to ensure safe and ethical development.\n",
            "\n",
            "5. **AI Funding and Innovation**:\n",
            "   - Anthropic and Menlo Ventures launched a $100 million Anthology Fund to support AI startups, aiming to accelerate innovation in the AI sector.\n",
            "   - Skild AI secured $300 million in funding from Jeff Bezos and SoftBank to develop advanced AI solutions and robotic technologies.\n",
            "\n",
            "6. **AI in Finance**:\n",
            "   - An article evaluated six free web-based AI models (ChatGPT, Gemini, Copilot, Claude, Perplexity, and Meta AI) on their performance in finance-related tasks. The models were assessed for their ability to handle factual, conceptual, and computational queries, as well as their proficiency in Python coding through a financial case study.\n",
            "\n",
            "These updates reflect the diverse applications and advancements in AI across various fields.\n"
          ]
        }
      ]
    },
    {
      "cell_type": "markdown",
      "source": [
        "### Generating questions with Educhain on Latest news content"
      ],
      "metadata": {
        "id": "VWwFbjX8VJqx"
      }
    },
    {
      "cell_type": "code",
      "source": [
        "from educhain import Educhain\n",
        "\n",
        "client = Educhain()\n",
        "\n",
        "response = sonar.invoke(\"Give me the latest news on US Presidential Elections between 12-15th July\")\n",
        "\n",
        "news_content = response.content\n",
        "\n",
        "news_mcq = client.qna_engine.generate_questions_from_data(\n",
        "        source=news_content,\n",
        "        source_type=\"text\",\n",
        "        num=5,\n",
        "    )\n",
        "\n",
        "news_mcq.show()"
      ],
      "metadata": {
        "colab": {
          "base_uri": "https://localhost:8080/"
        },
        "id": "cCn40vfeOqMA",
        "outputId": "4e1b2883-6a65-49ff-ab46-5a568c41725b"
      },
      "execution_count": null,
      "outputs": [
        {
          "output_type": "stream",
          "name": "stdout",
          "text": [
            "Question 1:\n",
            "Question: Who participated in the first presidential debate on July 12, 2024?\n",
            "Options:\n",
            "  A. Vice President Kamala Harris and former President Donald Trump\n",
            "  B. Senator Bernie Sanders and former President Donald Trump\n",
            "  C. Vice President Kamala Harris and Senator Elizabeth Warren\n",
            "  D. Donald Trump and Governor Ron DeSantis\n",
            "\n",
            "Correct Answer: Vice President Kamala Harris and former President Donald Trump\n",
            "Explanation: The debate was significant as it was the first and possibly only debate between the two candidates.\n",
            "\n",
            "Question 2:\n",
            "Question: According to the CNBC Fed Survey, what percentage of respondents believed Kamala Harris was more likely to win the presidential election?\n",
            "Options:\n",
            "  A. 41%\n",
            "  B. 48%\n",
            "  C. 50%\n",
            "  D. 55%\n",
            "\n",
            "Correct Answer: 48%\n",
            "Explanation: The survey indicated that a majority of respondents favored Harris over Trump regarding the likelihood of winning.\n",
            "\n",
            "Question 3:\n",
            "Question: What event marked the beginning of the Republican presidential primary?\n",
            "Options:\n",
            "  A. New Hampshire primary\n",
            "  B. Iowa caucuses on January 15\n",
            "  C. South Carolina primary\n",
            "  D. Nevada caucuses\n",
            "\n",
            "Correct Answer: Iowa caucuses on January 15\n",
            "Explanation: The Iowa caucuses are traditionally the first major event in the presidential primary process.\n",
            "\n",
            "Question 4:\n",
            "Question: What incident raised security concerns in the days leading up to July 15, 2024?\n",
            "Options:\n",
            "  A. A protest at a campaign rally\n",
            "  B. A shooting incident at one of Donald Trump's golf courses\n",
            "  C. A bomb threat at a Republican convention\n",
            "  D. Vandalism at a polling station\n",
            "\n",
            "Correct Answer: A shooting incident at one of Donald Trump's golf courses\n",
            "Explanation: This incident involved a suspect charged with federal gun crimes and raised alarms about potential threats to Trump's safety.\n",
            "\n",
            "Question 5:\n",
            "Question: What sentiment was expressed by a majority of poll respondents regarding the candidates?\n",
            "Options:\n",
            "  A. Support for Trump due to economic benefits\n",
            "  B. Concerns about the rising cost of living and favoring Harris over Trump\n",
            "  C. Preference for third-party candidates\n",
            "  D. Indifference towards both candidates\n",
            "\n",
            "Correct Answer: Concerns about the rising cost of living and favoring Harris over Trump\n",
            "Explanation: Polls showed that economic issues were at the forefront of voters' minds, influencing their preferences.\n",
            "\n"
          ]
        }
      ]
    },
    {
      "cell_type": "code",
      "source": [
        "from educhain import Educhain\n",
        "\n",
        "client = Educhain()\n",
        "\n",
        "def generate_news_mcqs(topic, num_questions=5):\n",
        "    \"\"\"\n",
        "    Generate multiple-choice questions based on current news about a given topic.\n",
        "\n",
        "    Args:\n",
        "    topic (str): The news topic to fetch and generate questions about.\n",
        "    num_questions (int): The number of questions to generate (default is 5).\n",
        "\n",
        "    Returns:\n",
        "    None: Prints the generated questions.\n",
        "    \"\"\"\n",
        "    try:\n",
        "        # Create a prompt template for Sonar\n",
        "        sonar_prompt = f\"\"\"Fetch and summarize the latest news articles about {topic}.\n",
        "        Focus on the most significant events and developments.\n",
        "        Provide a concise summary of 3-5 key points.\"\"\"\n",
        "\n",
        "        # Fetch news using Sonar\n",
        "        response = sonar.invoke(sonar_prompt)\n",
        "        news_content = response.content\n",
        "\n",
        "        print(f\"Fetched news about {topic}:\")\n",
        "        print(news_content)\n",
        "        print(\"\\nGenerating questions based on the news...\\n\")\n",
        "\n",
        "        # Generate MCQs using the qna_engine\n",
        "        mcq_list = client.qna_engine.generate_questions_from_data(\n",
        "            source=news_content,\n",
        "            source_type=\"text\",\n",
        "            num=num_questions,\n",
        "        )\n",
        "\n",
        "        # Display the generated questions\n",
        "        print(f\"Generated {num_questions} questions on the latest news about {topic}:\\n\")\n",
        "        mcq_list.show()\n",
        "    except Exception as e:\n",
        "        print(f\"An error occurred: {str(e)}\")"
      ],
      "metadata": {
        "id": "E4mwsKsQUfmy"
      },
      "execution_count": null,
      "outputs": []
    },
    {
      "cell_type": "code",
      "source": [
        "generate_news_mcqs(\"US Presidential Elections\", num_questions=5)"
      ],
      "metadata": {
        "colab": {
          "base_uri": "https://localhost:8080/"
        },
        "id": "d-5pqKfLUzPS",
        "outputId": "032304ea-82ee-4638-da5d-88bc3d375893"
      },
      "execution_count": null,
      "outputs": [
        {
          "output_type": "stream",
          "name": "stdout",
          "text": [
            "Fetched news about US Presidential Elections:\n",
            "### Key Developments in the 2024 US Presidential Elections\n",
            "\n",
            "1. **Lindsey Graham's Visit to Nebraska**: Lindsey Graham, on behalf of the Trump campaign, visited Nebraska to push for an electoral vote change, highlighting the ongoing efforts to influence electoral dynamics.\n",
            "\n",
            "2. **Trump's Campaign Activities**: Donald Trump has announced plans to visit Springfield, Ohio, in the next two weeks, as part of his campaign strategy. Additionally, he rejected another debate with Vice President Kamala Harris, continuing his stance on avoiding debates.\n",
            "\n",
            "3. **Security Concerns and Incidents**: Following a second apparent assassination attempt at one of Trump's golf courses, Ryan Wesley Routh, the suspect, remains in custody and has been charged with federal gun crimes. This incident has raised concerns about security and the threat environment ahead of the elections.\n",
            "\n",
            "4. **Polls and Voter Engagement**: Recent polls suggest that Kamala Harris is seen as a debate winner, although Taylor Swift's endorsement of Harris has shown little impact. Celebrities are mobilizing to stimulate civic engagement, potentially influencing voter turnout.\n",
            "\n",
            "5. **Campaign Messaging and Rhetoric**: There have been criticisms of Trump's rhetoric, particularly regarding immigration and migrant issues, with Harris and other opponents targeting these comments in their campaigns. Harris has also been focusing on digital ads highlighting her stance on human suffering in Gaza and other issues.\n",
            "\n",
            "Generating questions based on the news...\n",
            "\n",
            "Generated 5 questions on the latest news about US Presidential Elections:\n",
            "\n",
            "Question 1:\n",
            "Question: What was the purpose of Lindsey Graham's visit to Nebraska?\n",
            "Options:\n",
            "  A. To push for an electoral vote change on behalf of the Trump campaign.\n",
            "  B. To support Kamala Harris's campaign.\n",
            "  C. To attend a fundraising event.\n",
            "  D. To discuss security concerns at Trump's golf courses.\n",
            "\n",
            "Correct Answer: To push for an electoral vote change on behalf of the Trump campaign.\n",
            "Explanation: Graham's visit was part of the ongoing efforts by the Trump campaign to influence the electoral dynamics in favor of Trump.\n",
            "\n",
            "Question 2:\n",
            "Question: What did Donald Trump decide regarding debates with Kamala Harris?\n",
            "Options:\n",
            "  A. He accepted to debate Harris.\n",
            "  B. He rejected another debate.\n",
            "  C. He proposed a series of debates.\n",
            "  D. He invited Harris for a joint press conference.\n",
            "\n",
            "Correct Answer: He rejected another debate.\n",
            "Explanation: Trump has consistently avoided debating Harris, indicating a strategic choice in his campaign approach.\n",
            "\n",
            "Question 3:\n",
            "Question: What security incident raised concerns ahead of the 2024 elections?\n",
            "Options:\n",
            "  A. A second apparent assassination attempt at one of Trump's golf courses.\n",
            "  B. A protest outside the White House.\n",
            "  C. An attack on a Harris campaign event.\n",
            "  D. A robbery at a polling station.\n",
            "\n",
            "Correct Answer: A second apparent assassination attempt at one of Trump's golf courses.\n",
            "Explanation: The incident involved a suspect who was charged with federal gun crimes, highlighting the heightened security risks for candidates.\n",
            "\n",
            "Question 4:\n",
            "Question: How did recent polls reflect Kamala Harris's performance?\n",
            "Options:\n",
            "  A. She is seen as a debate winner.\n",
            "  B. She is losing support among voters.\n",
            "  C. She is not participating in debates.\n",
            "  D. She has gained significant celebrity support.\n",
            "\n",
            "Correct Answer: She is seen as a debate winner.\n",
            "Explanation: Polls indicated that Harris was perceived positively in debates, although celebrity endorsements had limited impact on voter opinions.\n",
            "\n",
            "Question 5:\n",
            "Question: What issues has Kamala Harris focused on in her campaign messaging?\n",
            "Options:\n",
            "  A. Human suffering in Gaza and immigration issues.\n",
            "  B. Economic recovery and job creation.\n",
            "  C. Healthcare reform and education.\n",
            "  D. National security and foreign policy.\n",
            "\n",
            "Correct Answer: Human suffering in Gaza and immigration issues.\n",
            "Explanation: Harris has aimed to address sensitive topics like immigration and humanitarian issues, contrasting with Trump's rhetoric.\n",
            "\n"
          ]
        }
      ]
    },
    {
      "cell_type": "code",
      "source": [],
      "metadata": {
        "id": "g5Dqsika6qlS"
      },
      "execution_count": null,
      "outputs": []
    }
  ]
}