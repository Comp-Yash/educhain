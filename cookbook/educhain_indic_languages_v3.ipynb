{
  "nbformat": 4,
  "nbformat_minor": 0,
  "metadata": {
    "colab": {
      "provenance": []
    },
    "kernelspec": {
      "name": "python3",
      "display_name": "Python 3"
    },
    "language_info": {
      "name": "python"
    }
  },
  "cells": [
    {
      "cell_type": "markdown",
      "source": [
        "[![Open In Colab](https://colab.research.google.com/assets/colab-badge.svg)](https://colab.research.google.com/drive/1TWNcGuiqP4E4DwsRWM3URbi1Te7IY__D?usp=sharing)"
      ],
      "metadata": {
        "id": "RFrL1UWqTL97"
      }
    },
    {
      "cell_type": "markdown",
      "source": [
        "# educhain\n",
        "\n",
        "\n",
        "[Educhain](https://github.com/satvik314/educhain) is a python package for generating educational content using Generative AI.\n",
        "\n",
        "\n",
        "In this notebook, we show you how to generate questions in multiple languages in <10 lines of code. 🤯"
      ],
      "metadata": {
        "id": "0B9ZpyqBTRWx"
      }
    },
    {
      "cell_type": "code",
      "execution_count": 1,
      "metadata": {
        "colab": {
          "base_uri": "https://localhost:8080/"
        },
        "id": "AWjdqfcUUs0D",
        "outputId": "ff1d4e2f-f670-428f-bcea-e84641114c16"
      },
      "outputs": [
        {
          "output_type": "stream",
          "name": "stdout",
          "text": [
            "\u001b[?25l     \u001b[90m━━━━━━━━━━━━━━━━━━━━━━━━━━━━━━━━━━━━━━━━\u001b[0m \u001b[32m0.0/67.3 kB\u001b[0m \u001b[31m?\u001b[0m eta \u001b[36m-:--:--\u001b[0m\r\u001b[2K     \u001b[90m━━━━━━━━━━━━━━━━━━━━━━━━━━━━━━━━━━━━━━━━\u001b[0m \u001b[32m67.3/67.3 kB\u001b[0m \u001b[31m2.3 MB/s\u001b[0m eta \u001b[36m0:00:00\u001b[0m\n",
            "\u001b[?25h  Installing build dependencies ... \u001b[?25l\u001b[?25hdone\n",
            "  Getting requirements to build wheel ... \u001b[?25l\u001b[?25hdone\n",
            "  Preparing metadata (pyproject.toml) ... \u001b[?25l\u001b[?25hdone\n",
            "\u001b[2K     \u001b[90m━━━━━━━━━━━━━━━━━━━━━━━━━━━━━━━━━━━━━━━━\u001b[0m \u001b[32m50.4/50.4 kB\u001b[0m \u001b[31m934.1 kB/s\u001b[0m eta \u001b[36m0:00:00\u001b[0m\n",
            "\u001b[?25h  Preparing metadata (setup.py) ... \u001b[?25l\u001b[?25hdone\n",
            "\u001b[2K   \u001b[90m━━━━━━━━━━━━━━━━━━━━━━━━━━━━━━━━━━━━━━━━\u001b[0m \u001b[32m599.2/599.2 kB\u001b[0m \u001b[31m14.3 MB/s\u001b[0m eta \u001b[36m0:00:00\u001b[0m\n",
            "\u001b[2K   \u001b[90m━━━━━━━━━━━━━━━━━━━━━━━━━━━━━━━━━━━━━━━━\u001b[0m \u001b[32m2.4/2.4 MB\u001b[0m \u001b[31m49.9 MB/s\u001b[0m eta \u001b[36m0:00:00\u001b[0m\n",
            "\u001b[2K   \u001b[90m━━━━━━━━━━━━━━━━━━━━━━━━━━━━━━━━━━━━━━━━\u001b[0m \u001b[32m1.0/1.0 MB\u001b[0m \u001b[31m39.5 MB/s\u001b[0m eta \u001b[36m0:00:00\u001b[0m\n",
            "\u001b[2K   \u001b[90m━━━━━━━━━━━━━━━━━━━━━━━━━━━━━━━━━━━━━━━━\u001b[0m \u001b[32m2.3/2.3 MB\u001b[0m \u001b[31m61.9 MB/s\u001b[0m eta \u001b[36m0:00:00\u001b[0m\n",
            "\u001b[2K   \u001b[90m━━━━━━━━━━━━━━━━━━━━━━━━━━━━━━━━━━━━━━━━\u001b[0m \u001b[32m51.5/51.5 kB\u001b[0m \u001b[31m2.4 MB/s\u001b[0m eta \u001b[36m0:00:00\u001b[0m\n",
            "\u001b[2K   \u001b[90m━━━━━━━━━━━━━━━━━━━━━━━━━━━━━━━━━━━━━━━━\u001b[0m \u001b[32m375.6/375.6 kB\u001b[0m \u001b[31m19.4 MB/s\u001b[0m eta \u001b[36m0:00:00\u001b[0m\n",
            "\u001b[2K   \u001b[90m━━━━━━━━━━━━━━━━━━━━━━━━━━━━━━━━━━━━━━━━\u001b[0m \u001b[32m232.6/232.6 kB\u001b[0m \u001b[31m11.7 MB/s\u001b[0m eta \u001b[36m0:00:00\u001b[0m\n",
            "\u001b[2K   \u001b[90m━━━━━━━━━━━━━━━━━━━━━━━━━━━━━━━━━━━━━━━━\u001b[0m \u001b[32m1.9/1.9 MB\u001b[0m \u001b[31m52.0 MB/s\u001b[0m eta \u001b[36m0:00:00\u001b[0m\n",
            "\u001b[2K   \u001b[90m━━━━━━━━━━━━━━━━━━━━━━━━━━━━━━━━━━━━━━━━\u001b[0m \u001b[32m273.8/273.8 kB\u001b[0m \u001b[31m14.2 MB/s\u001b[0m eta \u001b[36m0:00:00\u001b[0m\n",
            "\u001b[2K   \u001b[90m━━━━━━━━━━━━━━━━━━━━━━━━━━━━━━━━━━━━━━━━\u001b[0m \u001b[32m94.6/94.6 kB\u001b[0m \u001b[31m5.6 MB/s\u001b[0m eta \u001b[36m0:00:00\u001b[0m\n",
            "\u001b[2K   \u001b[90m━━━━━━━━━━━━━━━━━━━━━━━━━━━━━━━━━━━━━━━━\u001b[0m \u001b[32m76.4/76.4 kB\u001b[0m \u001b[31m4.4 MB/s\u001b[0m eta \u001b[36m0:00:00\u001b[0m\n",
            "\u001b[2K   \u001b[90m━━━━━━━━━━━━━━━━━━━━━━━━━━━━━━━━━━━━━━━━\u001b[0m \u001b[32m77.9/77.9 kB\u001b[0m \u001b[31m4.2 MB/s\u001b[0m eta \u001b[36m0:00:00\u001b[0m\n",
            "\u001b[2K   \u001b[90m━━━━━━━━━━━━━━━━━━━━━━━━━━━━━━━━━━━━━━━━\u001b[0m \u001b[32m318.9/318.9 kB\u001b[0m \u001b[31m17.6 MB/s\u001b[0m eta \u001b[36m0:00:00\u001b[0m\n",
            "\u001b[2K   \u001b[90m━━━━━━━━━━━━━━━━━━━━━━━━━━━━━━━━━━━━━━━━\u001b[0m \u001b[32m1.9/1.9 MB\u001b[0m \u001b[31m51.1 MB/s\u001b[0m eta \u001b[36m0:00:00\u001b[0m\n",
            "\u001b[2K   \u001b[90m━━━━━━━━━━━━━━━━━━━━━━━━━━━━━━━━━━━━━━━━\u001b[0m \u001b[32m399.9/399.9 kB\u001b[0m \u001b[31m20.5 MB/s\u001b[0m eta \u001b[36m0:00:00\u001b[0m\n",
            "\u001b[2K   \u001b[90m━━━━━━━━━━━━━━━━━━━━━━━━━━━━━━━━━━━━━━━━\u001b[0m \u001b[32m290.2/290.2 kB\u001b[0m \u001b[31m13.9 MB/s\u001b[0m eta \u001b[36m0:00:00\u001b[0m\n",
            "\u001b[2K   \u001b[90m━━━━━━━━━━━━━━━━━━━━━━━━━━━━━━━━━━━━━━━━\u001b[0m \u001b[32m93.2/93.2 kB\u001b[0m \u001b[31m5.1 MB/s\u001b[0m eta \u001b[36m0:00:00\u001b[0m\n",
            "\u001b[2K   \u001b[90m━━━━━━━━━━━━━━━━━━━━━━━━━━━━━━━━━━━━━━━━\u001b[0m \u001b[32m13.2/13.2 MB\u001b[0m \u001b[31m86.1 MB/s\u001b[0m eta \u001b[36m0:00:00\u001b[0m\n",
            "\u001b[2K   \u001b[90m━━━━━━━━━━━━━━━━━━━━━━━━━━━━━━━━━━━━━━━━\u001b[0m \u001b[32m64.0/64.0 kB\u001b[0m \u001b[31m3.8 MB/s\u001b[0m eta \u001b[36m0:00:00\u001b[0m\n",
            "\u001b[2K   \u001b[90m━━━━━━━━━━━━━━━━━━━━━━━━━━━━━━━━━━━━━━━━\u001b[0m \u001b[32m52.5/52.5 kB\u001b[0m \u001b[31m2.8 MB/s\u001b[0m eta \u001b[36m0:00:00\u001b[0m\n",
            "\u001b[2K   \u001b[90m━━━━━━━━━━━━━━━━━━━━━━━━━━━━━━━━━━━━━━━━\u001b[0m \u001b[32m149.7/149.7 kB\u001b[0m \u001b[31m8.2 MB/s\u001b[0m eta \u001b[36m0:00:00\u001b[0m\n",
            "\u001b[2K   \u001b[90m━━━━━━━━━━━━━━━━━━━━━━━━━━━━━━━━━━━━━━━━\u001b[0m \u001b[32m110.5/110.5 kB\u001b[0m \u001b[31m5.8 MB/s\u001b[0m eta \u001b[36m0:00:00\u001b[0m\n",
            "\u001b[2K   \u001b[90m━━━━━━━━━━━━━━━━━━━━━━━━━━━━━━━━━━━━━━━━\u001b[0m \u001b[32m141.9/141.9 kB\u001b[0m \u001b[31m8.0 MB/s\u001b[0m eta \u001b[36m0:00:00\u001b[0m\n",
            "\u001b[2K   \u001b[90m━━━━━━━━━━━━━━━━━━━━━━━━━━━━━━━━━━━━━━━━\u001b[0m \u001b[32m54.3/54.3 kB\u001b[0m \u001b[31m967.6 kB/s\u001b[0m eta \u001b[36m0:00:00\u001b[0m\n",
            "\u001b[2K   \u001b[90m━━━━━━━━━━━━━━━━━━━━━━━━━━━━━━━━━━━━━━━━\u001b[0m \u001b[32m1.1/1.1 MB\u001b[0m \u001b[31m41.7 MB/s\u001b[0m eta \u001b[36m0:00:00\u001b[0m\n",
            "\u001b[2K   \u001b[90m━━━━━━━━━━━━━━━━━━━━━━━━━━━━━━━━━━━━━━━━\u001b[0m \u001b[32m62.8/62.8 kB\u001b[0m \u001b[31m3.6 MB/s\u001b[0m eta \u001b[36m0:00:00\u001b[0m\n",
            "\u001b[2K   \u001b[90m━━━━━━━━━━━━━━━━━━━━━━━━━━━━━━━━━━━━━━━━\u001b[0m \u001b[32m58.3/58.3 kB\u001b[0m \u001b[31m3.5 MB/s\u001b[0m eta \u001b[36m0:00:00\u001b[0m\n",
            "\u001b[2K   \u001b[90m━━━━━━━━━━━━━━━━━━━━━━━━━━━━━━━━━━━━━━━━\u001b[0m \u001b[32m341.4/341.4 kB\u001b[0m \u001b[31m17.0 MB/s\u001b[0m eta \u001b[36m0:00:00\u001b[0m\n",
            "\u001b[2K   \u001b[90m━━━━━━━━━━━━━━━━━━━━━━━━━━━━━━━━━━━━━━━━\u001b[0m \u001b[32m49.3/49.3 kB\u001b[0m \u001b[31m2.8 MB/s\u001b[0m eta \u001b[36m0:00:00\u001b[0m\n",
            "\u001b[2K   \u001b[90m━━━━━━━━━━━━━━━━━━━━━━━━━━━━━━━━━━━━━━━━\u001b[0m \u001b[32m71.5/71.5 kB\u001b[0m \u001b[31m4.0 MB/s\u001b[0m eta \u001b[36m0:00:00\u001b[0m\n",
            "\u001b[2K   \u001b[90m━━━━━━━━━━━━━━━━━━━━━━━━━━━━━━━━━━━━━━━━\u001b[0m \u001b[32m3.4/3.4 MB\u001b[0m \u001b[31m71.5 MB/s\u001b[0m eta \u001b[36m0:00:00\u001b[0m\n",
            "\u001b[2K   \u001b[90m━━━━━━━━━━━━━━━━━━━━━━━━━━━━━━━━━━━━━━━━\u001b[0m \u001b[32m425.7/425.7 kB\u001b[0m \u001b[31m22.1 MB/s\u001b[0m eta \u001b[36m0:00:00\u001b[0m\n",
            "\u001b[2K   \u001b[90m━━━━━━━━━━━━━━━━━━━━━━━━━━━━━━━━━━━━━━━━\u001b[0m \u001b[32m164.1/164.1 kB\u001b[0m \u001b[31m10.4 MB/s\u001b[0m eta \u001b[36m0:00:00\u001b[0m\n",
            "\u001b[2K   \u001b[90m━━━━━━━━━━━━━━━━━━━━━━━━━━━━━━━━━━━━━━━━\u001b[0m \u001b[32m46.0/46.0 kB\u001b[0m \u001b[31m2.4 MB/s\u001b[0m eta \u001b[36m0:00:00\u001b[0m\n",
            "\u001b[2K   \u001b[90m━━━━━━━━━━━━━━━━━━━━━━━━━━━━━━━━━━━━━━━━\u001b[0m \u001b[32m86.8/86.8 kB\u001b[0m \u001b[31m5.1 MB/s\u001b[0m eta \u001b[36m0:00:00\u001b[0m\n",
            "\u001b[?25h  Building wheel for pypika (pyproject.toml) ... \u001b[?25l\u001b[?25hdone\n",
            "  Building wheel for durationpy (setup.py) ... \u001b[?25l\u001b[?25hdone\n"
          ]
        }
      ],
      "source": [
        "!pip install -qU educhain"
      ]
    },
    {
      "cell_type": "code",
      "source": [
        "import os\n",
        "from google.colab import userdata\n",
        "\n",
        "os.environ[\"OPENAI_API_KEY\"] = userdata.get('OPENAI_API_KEY')"
      ],
      "metadata": {
        "id": "NIe13AkdVi7r"
      },
      "execution_count": 2,
      "outputs": []
    },
    {
      "cell_type": "code",
      "source": [
        "## Generate questions in English\n",
        "from educhain import Educhain\n",
        "\n",
        "client = Educhain()\n",
        "\n",
        "result = client.qna_engine.generate_questions(\n",
        "    topic=\"English Literature\",\n",
        "    num=3,\n",
        ")\n",
        "\n",
        "result.show()"
      ],
      "metadata": {
        "id": "wndavn9qU2bA",
        "colab": {
          "base_uri": "https://localhost:8080/"
        },
        "outputId": "383c4f86-6fd4-48bf-de51-858b16c1685a"
      },
      "execution_count": 3,
      "outputs": [
        {
          "output_type": "stream",
          "name": "stdout",
          "text": [
            "Question 1:\n",
            "Question: Who wrote the play 'Hamlet'?\n",
            "Options:\n",
            "  A. William Shakespeare\n",
            "  B. Charles Dickens\n",
            "  C. George Orwell\n",
            "  D. Jane Austen\n",
            "\n",
            "Correct Answer: William Shakespeare\n",
            "Explanation: William Shakespeare is widely regarded as one of the greatest playwrights in the English language, and 'Hamlet' is one of his most famous works.\n",
            "\n",
            "Question 2:\n",
            "Question: In which novel does the character 'Holden Caulfield' appear?\n",
            "Options:\n",
            "  A. To Kill a Mockingbird\n",
            "  B. The Great Gatsby\n",
            "  C. The Catcher in the Rye\n",
            "  D. Pride and Prejudice\n",
            "\n",
            "Correct Answer: The Catcher in the Rye\n",
            "Explanation: 'The Catcher in the Rye' is a novel by J.D. Salinger that features Holden Caulfield as the protagonist, who struggles with the complexities of adolescence.\n",
            "\n",
            "Question 3:\n",
            "Question: What is the primary theme of George Orwell's '1984'?\n",
            "Options:\n",
            "  A. Romanticism\n",
            "  B. Totalitarianism\n",
            "  C. Existentialism\n",
            "  D. Feminism\n",
            "\n",
            "Correct Answer: Totalitarianism\n",
            "Explanation: '1984' explores the dangers of totalitarianism and the oppressive nature of a government that seeks to control every aspect of life.\n",
            "\n"
          ]
        }
      ]
    },
    {
      "cell_type": "markdown",
      "source": [
        "## Hindi"
      ],
      "metadata": {
        "id": "owFBIjXsiGO3"
      }
    },
    {
      "cell_type": "code",
      "source": [
        "## Generate questions in Hindi\n",
        "from educhain import Educhain\n",
        "from educhain.core import config\n",
        "from langchain_openai import ChatOpenAI\n",
        "\n",
        "client = Educhain()\n",
        "\n",
        "custom_template = \"\"\"\n",
        "दिए गए विषय और स्तर के आधार पर {num} बहुविकल्पीय प्रश्न (MCQ) उत्पन्न करें। प्रश्न, चार उत्तर विकल्प और सही उत्तर प्रदान करें।\n",
        "विषय: {topic}\n",
        "\n",
        "Generate questions in hindi.\n",
        "\"\"\"\n",
        "\n",
        "gpt_4o = ChatOpenAI(model= \"gpt-4o\")\n",
        "\n",
        "llm_config = config.LLMConfig(\n",
        "    custom_model=gpt_4o\n",
        ")\n",
        "\n",
        "client = Educhain(llm_config)\n",
        "\n",
        "result = client.qna_engine.generate_questions(\n",
        "                                  topic=\"भारतीय भूगोल\",\n",
        "                                  num=3,\n",
        "                                  prompt_template=custom_template\n",
        "                                  )\n",
        "\n",
        "result.show()"
      ],
      "metadata": {
        "colab": {
          "base_uri": "https://localhost:8080/"
        },
        "id": "AdvzoTBQVMOK",
        "outputId": "1b856f7b-5eb8-487e-8f07-1960b0efaac7"
      },
      "execution_count": null,
      "outputs": [
        {
          "output_type": "stream",
          "name": "stdout",
          "text": [
            "Question 1:\n",
            "Question: भारत की सबसे लंबी नदी कौन सी है?\n",
            "Options:\n",
            "  A. गंगा\n",
            "  B. यमुना\n",
            "  C. ब्रह्मपुत्र\n",
            "  D. सिंधु\n",
            "\n",
            "Correct Answer: गंगा\n",
            "\n",
            "Question 2:\n",
            "Question: भारत में सबसे बड़ा राज्य कौन सा है?\n",
            "Options:\n",
            "  A. उत्तर प्रदेश\n",
            "  B. राजस्थान\n",
            "  C. महाराष्ट्र\n",
            "  D. मध्य प्रदेश\n",
            "\n",
            "Correct Answer: राजस्थान\n",
            "\n",
            "Question 3:\n",
            "Question: भारत का सबसे ऊँचा पर्वत कौन सा है?\n",
            "Options:\n",
            "  A. कंचनजंगा\n",
            "  B. नंदा देवी\n",
            "  C. एवरेस्ट\n",
            "  D. नांगापार्बत\n",
            "\n",
            "Correct Answer: एवरेस्ट\n",
            "\n"
          ]
        }
      ]
    },
    {
      "cell_type": "markdown",
      "source": [
        "## Telgu"
      ],
      "metadata": {
        "id": "4D-fzY8aiIDi"
      }
    },
    {
      "cell_type": "code",
      "source": [
        "## Generate questions in Telugu\n",
        "from educhain import Educhain\n",
        "from educhain.core import config\n",
        "from langchain_openai import ChatOpenAI\n",
        "\n",
        "\n",
        "\n",
        "custom_template = \"\"\"\n",
        "ఇచ్చిన అంశం మరియు స్థాయిని బట్టి {num} బహుళ ఎంపిక ప్రశ్నలు (MCQ) రూపొందించండి. ప్రశ్న, నాలుగు సమాధాన ఎంపికలు మరియు సరైన సమాధానాన్ని అందించండి.\n",
        "అంశం: {topic}\n",
        "ప్రశ్నలను తెలుగులో రూపొందించండి.\n",
        "\"\"\"\n",
        "\n",
        "gpt_4o = ChatOpenAI(model= \"gpt-4o\")\n",
        "\n",
        "llm_config = config.LLMConfig(\n",
        "    custom_model=gpt_4o\n",
        ")\n",
        "\n",
        "client = Educhain(llm_config)\n",
        "\n",
        "result = client.qna_engine.generate_questions(\n",
        "                                  topic=\"భారతదేశ భౌగోళికం\",\n",
        "                                  num=3,\n",
        "                                  prompt_template=custom_template,\n",
        "                                  )\n",
        "\n",
        "result.show()"
      ],
      "metadata": {
        "colab": {
          "base_uri": "https://localhost:8080/"
        },
        "id": "Xn_C7-76WwUk",
        "outputId": "88e0d012-f3e1-46d3-cd13-4720f2620546"
      },
      "execution_count": 4,
      "outputs": [
        {
          "output_type": "stream",
          "name": "stdout",
          "text": [
            "Question 1:\n",
            "Question: భారతదేశంలో అతిపెద్ద రాష్ట్రం ఏది?\n",
            "Options:\n",
            "  A. మహారాష్ట్ర\n",
            "  B. ఉత్తరప్రదేశ్\n",
            "  C. మధ్యప్రదేశ్\n",
            "  D. రాజస్థాన్\n",
            "\n",
            "Correct Answer: రాజస్థాన్\n",
            "\n",
            "Question 2:\n",
            "Question: భారతదేశంలోని గంగా నది ఏ సముద్రంలో కలుస్తుంది?\n",
            "Options:\n",
            "  A. అరేబియా సముద్రం\n",
            "  B. భారత మహాసముద్రం\n",
            "  C. బంగాళాఖాతం\n",
            "  D. లక్షద్వీప్ సముద్రం\n",
            "\n",
            "Correct Answer: బంగాళాఖాతం\n",
            "\n",
            "Question 3:\n",
            "Question: నీలగిరి పర్వతం ఏ రాష్ట్రంలో ఉంది?\n",
            "Options:\n",
            "  A. కర్ణాటక\n",
            "  B. కేరళ\n",
            "  C. తమిళనాడు\n",
            "  D. ఆంధ్రప్రదేశ్\n",
            "\n",
            "Correct Answer: తమిళనాడు\n",
            "\n"
          ]
        }
      ]
    },
    {
      "cell_type": "code",
      "source": [],
      "metadata": {
        "id": "9R7k0EYe8i2P"
      },
      "execution_count": null,
      "outputs": []
    }
  ]
}